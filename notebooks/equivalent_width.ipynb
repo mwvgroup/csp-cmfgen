{
 "cells": [
  {
   "cell_type": "markdown",
   "metadata": {},
   "source": [
    "# Equivilent Width\n",
    "\n",
    "This notebook compares pseudo-equivilent widths (pW) between CMFGEN models and CSP spectroscopy. pW values are determine according to the prescription set forth in the CSP DR1 data release Folatelli et al. 2013. For each feature, \"the pW is obtained by defining a straight 'continuum' level between two neighboring flux peaks and computing the integral of the spectrum flux relative to the continuum\" (Folatelli 2013).\n"
   ]
  },
  {
   "cell_type": "code",
   "execution_count": null,
   "metadata": {},
   "outputs": [],
   "source": [
    "import sys\n",
    "from pathlib import Path\n",
    "import numpy as np\n",
    "import sncosmo\n",
    "from astropy.table import Table, join\n",
    "from matplotlib import pyplot as plt\n",
    "from sndata.csp import DR1, DR3\n",
    "from specutils.analysis import equivalent_width\n",
    "from specutils.fitting import fit_generic_continuum\n",
    "\n",
    "sys.path.insert(0, '../')\n",
    "from analysis import equivalent_width as ew\n",
    "from analysis import models\n",
    "from analysis import utils\n"
   ]
  },
  {
   "cell_type": "code",
   "execution_count": null,
   "metadata": {},
   "outputs": [],
   "source": [
    "dr1 = DR1()\n",
    "dr3 = DR3()\n",
    "\n",
    "models.register_sources(force=True)\n",
    "dr1.download_module_data()\n",
    "dr3.register_filters()\n",
    "\n",
    "# Load models for different masses\n",
    "m102 = sncosmo.Model(sncosmo.get_source('CMFGEN', version=1.02))\n",
    "m104 = sncosmo.Model(sncosmo.get_source('CMFGEN', version=1.04))\n",
    "m14 = sncosmo.Model(sncosmo.get_source('CMFGEN', version=1.4))\n",
    "m17 = sncosmo.Model(sncosmo.get_source('CMFGEN', version=1.7))\n",
    "\n",
    "# Add an extinction component to each model\n",
    "# The extinction component is zero until changed\n",
    "model_list = [m102, m104, m14, m17]\n",
    "for model in model_list:\n",
    "    model.add_effect(sncosmo.F99Dust(), 'ext', 'rest')\n"
   ]
  },
  {
   "cell_type": "markdown",
   "metadata": {},
   "source": [
    "## Identifying Features\n",
    "\n",
    "We consider the same set of features considered in Folatelli et al. 2013."
   ]
  },
  {
   "cell_type": "code",
   "execution_count": null,
   "metadata": {},
   "outputs": [],
   "source": [
    "# Features are stored as a dict, but we display them as a\n",
    "# dictionary for easier mental parsing.\n",
    "feature_table = Table(list(ew.features.values()))\n",
    "feature_table ['feature_name'] = list(ew.features.keys())\n",
    "feature_table\n"
   ]
  },
  {
   "cell_type": "code",
   "execution_count": null,
   "metadata": {
    "scrolled": false
   },
   "outputs": [],
   "source": [
    "def plot_spectra(obs_dates, wavelength, flux, **kwargs):\n",
    "    \"\"\"Plot spectra\n",
    "    \n",
    "    Args:\n",
    "        obs_dates  (list): A list of observed MJD dates for each spectra\n",
    "        wavelength (list): A 2d list of wavelength values for each date\n",
    "        flux       (list): A 2d list of flux values for each date\n",
    "        Any other arguments for ``axis.plot``\n",
    "    \"\"\"\n",
    "    \n",
    "    fig, axis = plt.subplots(1, 1, figsize=(10, 10))    \n",
    "    plot_data = zip(obs_dates, wavelength, flux)\n",
    "    for i, (date, wave, flux) in enumerate(plot_data):\n",
    "        axis.plot(wave, flux + i * 2e-15, label=str(date), **kwargs)\n",
    "        axis.legend()\n",
    "    \n",
    "    return fig, axis\n",
    "\n",
    "\n",
    "def plot_ew(obs_dates, wavelength, flux, feature_table, **kwargs):\n",
    "    \"\"\"\n",
    "    \n",
    "    Args:\n",
    "        obs_dates      (list): A list of observed MJD dates for each spectra\n",
    "        wavelength     (list): A 2d list of wavelength values for each date\n",
    "        flux           (list): A 2d list of flux values for each date\n",
    "        feature_table (Table): A table defining spectral features\n",
    "        Any other arguments for ``axis.plot``\n",
    "    \"\"\"\n",
    "\n",
    "    fig, axis = plot_spectra(obs_dates, wavelength, flux)\n",
    "\n",
    "    for i, (time, wave, fluxx) in enumerate(zip(obs_dates, wavelength, flux)):\n",
    "        for feature in ew.features.values():\n",
    "            try:\n",
    "                feat_start, feat_end = ew.get_feature_bounds(wave, fluxx, feature)\n",
    "\n",
    "            except ew.UnobservedFeature:\n",
    "                continue\n",
    "\n",
    "            # Get observed wavelength and flux for each feature\n",
    "            indices = (feat_start < wave) & (wave < feat_end)\n",
    "            spectral_wave = wave[indices]\n",
    "            spectral_flux = fluxx[indices]\n",
    "            \n",
    "            # Get continuum and plot\n",
    "            cont_func = ew.fit_continuum_func(wave, fluxx, feat_start, feat_end)\n",
    "            continuum_flux = cont_func(spectral_wave)\n",
    "            axis.fill_between(\n",
    "                spectral_wave,\n",
    "                spectral_flux + i * 2e-15,\n",
    "                continuum_flux + i * 2e-15, \n",
    "                color='tan', \n",
    "                alpha=.75)\n",
    "            "
   ]
  },
  {
   "cell_type": "code",
   "execution_count": null,
   "metadata": {},
   "outputs": [],
   "source": [
    "demo_id = '2004ef'\n",
    "demo_data = dr1.get_data_for_id(demo_id)\n",
    "obs_dates, wavelength, flux = utils.parse_spectra_table(demo_data)\n",
    "plot_ew(obs_dates, wavelength, flux, ew.features)\n"
   ]
  },
  {
   "cell_type": "markdown",
   "metadata": {},
   "source": [
    "## Comparing CMFGEN Against Observations\n",
    "\n",
    "We plot the pw values at peak for feature 7 (Si II 6355) verses feature 6 (si II 5972). Observed values are taken from the CSP DR1 paper."
   ]
  },
  {
   "cell_type": "code",
   "execution_count": null,
   "metadata": {},
   "outputs": [],
   "source": [
    "def plot_peak_pew(model_pew_table):\n",
    "    \"\"\"Plot peak pW7 vs peak pW7 for modeled and observed values\n",
    "    \n",
    "    Args:\n",
    "        peak_pew_table (Table): A table of modeled pw values at Bmax\n",
    "    \"\"\"\n",
    "\n",
    "    fig, axes = plt.subplots(1, 3, figsize=(18, 6))\n",
    "    for axis, typing_system in zip(axes.flatten(), ('Type', 'Wst', 'Bst')):\n",
    "        axis.errorbar(model_pew_table['pW7'], model_pew_table['pW6'], \n",
    "                      label='CMFGEN', linestyle='', fmt='o')\n",
    "        \n",
    "        csp_type_table = dr1.load_table(1)['SN', typing_system]\n",
    "        is_typed = ~csp_type_table[typing_system].mask\n",
    "        csp_type_table = csp_type_table[is_typed]\n",
    "        \n",
    "        csp_pew = dr1.load_table(6)\n",
    "        for subtype in set(csp_type_table[typing_system]):\n",
    "            is_subtype = csp_type_table[typing_system] == subtype\n",
    "            obj_ids = csp_type_table['SN'][is_subtype]\n",
    "            plot_data = csp_pew[np.isin(csp_pew['SN'], obj_ids)]\n",
    "            \n",
    "#            axis.scatter(plot_data['pW7'], plot_data['pW6'], label=subtype)\n",
    "            axis.errorbar(plot_data['pW7'], plot_data['pW6'],\n",
    "                          xerr=plot_data['e_pW7'], yerr=plot_data['e_pW6'], \n",
    "                          linestyle='', fmt='o', label=subtype)\n",
    "        \n",
    "        axis.legend()\n",
    "        axis.set_xlabel(r'pW7 (Si II 6355) [$\\AA$]')\n",
    "        axis.set_ylim(0, 70)\n",
    "        axis.set_xlim(40, 190)\n",
    "        \n",
    "    axes[0].set_ylabel(r'pW6 (Si II 5972) [$\\AA$]')\n",
    "    return fig, axes\n"
   ]
  },
  {
   "cell_type": "code",
   "execution_count": null,
   "metadata": {},
   "outputs": [],
   "source": [
    "peak_pew_table = ew.tabulate_peak_model_pew(model_list)\n",
    "fig, axes = plot_peak_pew(peak_pew_table)\n"
   ]
  },
  {
   "cell_type": "markdown",
   "metadata": {},
   "source": [
    "We can also consider pw values as a function of time. We read in a table of our pw results for each spectrum/model. pw values are calculated both by fixing the feature boundaries to those determined by the observed spectrum and also by determining the feature boundaries for each observed/modeled spectrum individually."
   ]
  },
  {
   "cell_type": "code",
   "execution_count": null,
   "metadata": {},
   "outputs": [],
   "source": [
    "results_dir = Path('../results')\n",
    "fixed_width = Table.read(results_dir / 'equivalent_width/fixed_True.ecsv').to_pandas()\n",
    "free_width = Table.read(results_dir / 'equivalent_width/fixed_True.ecsv').to_pandas()\n",
    "\n",
    "fixed_width.set_index(['obj_id', 'model', 'version', 'time'], inplace=True)\n",
    "free_width.set_index(['obj_id', 'model', 'version', 'time'], inplace=True)\n",
    "\n",
    "fixed_width.head()\n"
   ]
  },
  {
   "cell_type": "code",
   "execution_count": null,
   "metadata": {},
   "outputs": [],
   "source": []
  }
 ],
 "metadata": {
  "kernelspec": {
   "display_name": "Python [conda env:cmfgen] *",
   "language": "python",
   "name": "conda-env-cmfgen-py"
  },
  "language_info": {
   "codemirror_mode": {
    "name": "ipython",
    "version": 3
   },
   "file_extension": ".py",
   "mimetype": "text/x-python",
   "name": "python",
   "nbconvert_exporter": "python",
   "pygments_lexer": "ipython3",
   "version": "3.7.0"
  }
 },
 "nbformat": 4,
 "nbformat_minor": 2
}
