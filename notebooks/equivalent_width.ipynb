{
 "cells": [
  {
   "cell_type": "markdown",
   "metadata": {},
   "source": [
    "# Equivilent Width\n",
    "\n",
    "This notebook compares pseudo-equivilent widths (pW) between CMFGEN models and CSP spectroscopy. pW values are determine according to the prescription set forth in the CSP DR1 data release Folatelli et al. 2013. For each feature, \"the pW is obtained by defining a straight 'continuum' level between two neighboring flux peaks and computing the integral of the spectrum flux relative to the continuum\" (Folatelli 2013).\n"
   ]
  },
  {
   "cell_type": "code",
   "execution_count": 1,
   "metadata": {},
   "outputs": [],
   "source": [
    "import sys\n",
    "\n",
    "import sncosmo\n",
    "from astropy.table import Table, join\n",
    "from matplotlib import pyplot as plt\n",
    "from sndata.csp import dr1\n",
    "from specutils.analysis import equivalent_width\n",
    "from specutils.fitting import fit_generic_continuum\n",
    "\n",
    "sys.path.insert(0, '../')\n",
    "from analysis import equivalent_width as ew\n",
    "from analysis import models\n",
    "from analysis import utils\n"
   ]
  },
  {
   "cell_type": "code",
   "execution_count": 2,
   "metadata": {},
   "outputs": [],
   "source": [
    "models.register_sources(force=True)\n",
    "dr1.download_module_data()\n",
    "\n",
    "# Load models for different masses\n",
    "m102 = sncosmo.Model(sncosmo.get_source('CMFGEN', version=1.02))\n",
    "m104 = sncosmo.Model(sncosmo.get_source('CMFGEN', version=1.04))\n",
    "m14 = sncosmo.Model(sncosmo.get_source('CMFGEN', version=1.4))\n",
    "m17 = sncosmo.Model(sncosmo.get_source('CMFGEN', version=1.7))\n",
    "\n",
    "# Add an extinction component to each model\n",
    "# The extinction component is zero until changed\n",
    "model_list = [m102, m104, m14, m17]\n",
    "for model in model_list:\n",
    "    model.add_effect(sncosmo.F99Dust(), 'ext', 'rest')\n"
   ]
  },
  {
   "cell_type": "code",
   "execution_count": 3,
   "metadata": {},
   "outputs": [],
   "source": [
    "def plot_spectra(obs_dates, wavelength, flux, **kwargs):\n",
    "    \"\"\"Plot spectra\n",
    "    \n",
    "    Args:\n",
    "        obs_dates  (list): A list of observed MJD dates for each spectra\n",
    "        wavelength (list): A 2d list of wavelength values for each date\n",
    "        flux       (list): A 2d list of flux values for each date\n",
    "        Any other arguments for ``axis.plot``\n",
    "    \"\"\"\n",
    "    \n",
    "    fig, axis = plt.subplots(1, 1, figsize=(10, 10))    \n",
    "    plot_data = zip(obs_dates, wavelength, flux)\n",
    "    for i, (date, wave, flux) in enumerate(plot_data):\n",
    "        axis.plot(wave, flux + i * 2e-15, label=str(date), **kwargs)\n",
    "        axis.legend()\n",
    "    \n",
    "    return fig, axis\n"
   ]
  },
  {
   "cell_type": "code",
   "execution_count": 4,
   "metadata": {},
   "outputs": [],
   "source": [
    "demo_id = '2004ef'\n",
    "demo_data = dr1.get_data_for_id(demo_id)\n",
    "obs_dates, wavelength, flux = utils.parse_spectra_table(demo_data)\n",
    "# plot_spectra(obs_dates, wavelength, flux)\n"
   ]
  },
  {
   "cell_type": "markdown",
   "metadata": {},
   "source": [
    "## Fitting the Continuum\n",
    "\n",
    "We consider the same set of features considered in Folatelli et al. 2013."
   ]
  },
  {
   "cell_type": "code",
   "execution_count": 5,
   "metadata": {},
   "outputs": [
    {
     "data": {
      "text/plain": [
       "{'pW1': {'feature_id': 'Ca\\u2009ii H&K',\n",
       "  'lower_blue': 3500,\n",
       "  'upper_blue': 3800,\n",
       "  'lower_red': 3900,\n",
       "  'upper_red': 4100},\n",
       " 'pW2': {'feature_id': 'Si\\u2009ii λ4130',\n",
       "  'lower_blue': 3900,\n",
       "  'upper_blue': 4000,\n",
       "  'lower_red': 4000,\n",
       "  'upper_red': 4150},\n",
       " 'pW3': {'feature_id': 'Mg\\u2009ii, Fe\\u2009ii',\n",
       "  'lower_blue': 3900,\n",
       "  'upper_blue': 4150,\n",
       "  'lower_red': 4450,\n",
       "  'upper_red': 4700},\n",
       " 'pW4': {'feature_id': 'Fe\\u2009ii, Si\\u2009ii',\n",
       "  'lower_blue': 4500,\n",
       "  'upper_blue': 4700,\n",
       "  'lower_red': 5050,\n",
       "  'upper_red': 5550},\n",
       " 'pW5': {'feature_id': 'S\\u2009ii λ5449, λ5622',\n",
       "  'lower_blue': 5150,\n",
       "  'upper_blue': 5300,\n",
       "  'lower_red': 5500,\n",
       "  'upper_red': 5700},\n",
       " 'pW6': {'feature_id': 'Si\\u2009ii λ5972',\n",
       "  'lower_blue': 5550,\n",
       "  'upper_blue': 5700,\n",
       "  'lower_red': 5800,\n",
       "  'upper_red': 6000},\n",
       " 'pW7': {'feature_id': 'Si\\u2009ii λ6355',\n",
       "  'lower_blue': 5800,\n",
       "  'upper_blue': 6000,\n",
       "  'lower_red': 6200,\n",
       "  'upper_red': 6600},\n",
       " 'pW8': {'feature_id': 'Ca\\u2009ii IR triplet',\n",
       "  'lower_blue': 7500,\n",
       "  'upper_blue': 8000,\n",
       "  'lower_red': 8200,\n",
       "  'upper_red': 8900}}"
      ]
     },
     "execution_count": 5,
     "metadata": {},
     "output_type": "execute_result"
    }
   ],
   "source": [
    "ew.features"
   ]
  },
  {
   "cell_type": "code",
   "execution_count": 6,
   "metadata": {
    "scrolled": false
   },
   "outputs": [],
   "source": [
    "def plot_ew(obs_dates, wavelength, flux, feature_table, **kwargs):\n",
    "    \"\"\"\n",
    "    \n",
    "    Args:\n",
    "        obs_dates      (list): A list of observed MJD dates for each spectra\n",
    "        wavelength     (list): A 2d list of wavelength values for each date\n",
    "        flux           (list): A 2d list of flux values for each date\n",
    "        feature_table (Table): A table defining spectral features\n",
    "        Any other arguments for ``axis.plot``\n",
    "    \"\"\"\n",
    "\n",
    "    fig, axis = plot_spectra(obs_dates, wavelength, flux)\n",
    "\n",
    "    for i, (time, wave, fluxx) in enumerate(zip(obs_dates, wavelength, flux)):\n",
    "        for feature in ew.feature_table:\n",
    "            try:\n",
    "                feat_wave, feat_flux = ew.get_feature_coordinates(wave, fluxx, feature)\n",
    "\n",
    "            except ew.UnobservedFeature:\n",
    "                continue\n",
    "\n",
    "            # Get observed wavelength and flux for each feature\n",
    "            indices = (feat_wave[0] < wave) & (wave < feat_wave[1])\n",
    "            spectral_wave = wave[indices]\n",
    "            spectral_flux = fluxx[indices]\n",
    "            \n",
    "            # Get continuum and plot\n",
    "            cont_func = ew.get_continuum_func(*feat_wave, *feat_flux)\n",
    "            continuum_flux = cont_func(spectral_wave)\n",
    "            axis.fill_between(\n",
    "                spectral_wave,\n",
    "                spectral_flux + i * 2e-15,\n",
    "                continuum_flux + i * 2e-15, \n",
    "                color='grey', \n",
    "                alpha=.75)\n",
    "            "
   ]
  },
  {
   "cell_type": "code",
   "execution_count": 7,
   "metadata": {},
   "outputs": [],
   "source": [
    "# plot_ew(obs_dates, wavelength, flux, ew.features)"
   ]
  },
  {
   "cell_type": "markdown",
   "metadata": {},
   "source": [
    "## Comparing CMFGEN Against Observations"
   ]
  },
  {
   "cell_type": "code",
   "execution_count": 8,
   "metadata": {},
   "outputs": [
    {
     "data": {
      "text/html": [
       "<i>Table length=5</i>\n",
       "<table id=\"table120871583640\" class=\"table-striped table-bordered table-condensed\">\n",
       "<thead><tr><th>model</th><th>version</th><th>pW2</th><th>pW2_start</th><th>pW2_end</th><th>pW3</th><th>pW3_start</th><th>pW3_end</th><th>pW4</th><th>pW4_start</th><th>pW4_end</th><th>pW5</th><th>pW5_start</th><th>pW5_end</th><th>pW6</th><th>pW6_start</th><th>pW6_end</th><th>pW7</th><th>pW7_start</th><th>pW7_end</th></tr></thead>\n",
       "<thead><tr><th>str100</th><th>str100</th><th>float64</th><th>float64</th><th>float64</th><th>float64</th><th>float64</th><th>float64</th><th>float64</th><th>float64</th><th>float64</th><th>float64</th><th>float64</th><th>float64</th><th>float64</th><th>float64</th><th>float64</th><th>float64</th><th>float64</th><th>float64</th></tr></thead>\n",
       "<tr><td>obs</td><td></td><td>52.225438367924625</td><td>3917.0316</td><td>4073.6855</td><td>184.80783257869825</td><td>3917.0316</td><td>4454.4748</td><td>205.25239219537804</td><td>4526.7766</td><td>5066.6299</td><td>102.15214197976803</td><td>5163.0322</td><td>5606.4831</td><td>41.9588278788157</td><td>5606.4831</td><td>5833.0287</td><td>196.28587634612143</td><td>5833.0287</td><td>6356.0115</td></tr>\n",
       "<tr><td>CMFGEN</td><td>CMFGEN</td><td>-0.00144618085945325</td><td>3996.5636</td><td>4001.3837</td><td>448.48345400492724</td><td>3996.5636</td><td>4688.2506</td><td>237.59471225406696</td><td>4688.2506</td><td>5230.5139</td><td>36.78667065268979</td><td>5230.5139</td><td>5500.4405</td><td>172.20793988023706</td><td>5551.0518</td><td>5873.9997</td><td>230.10608198799537</td><td>5873.9997</td><td>6515.0754</td></tr>\n",
       "<tr><td>CMFGEN</td><td>CMFGEN</td><td>0.0</td><td>3998.9737</td><td>4001.3837</td><td>462.7805807243851</td><td>3998.9737</td><td>4693.0707</td><td>112.14627762749322</td><td>4693.0707</td><td>5052.1695</td><td>29.58315582811659</td><td>5235.334</td><td>5500.4405</td><td>167.35163002350123</td><td>5551.0518</td><td>5873.9997</td><td>269.6995374519453</td><td>5873.9997</td><td>6517.4855</td></tr>\n",
       "<tr><td>CMFGEN</td><td>CMFGEN</td><td>0.15730971099052482</td><td>3998.9737</td><td>4035.1245</td><td>386.58239905057263</td><td>4035.1245</td><td>4681.0204</td><td>242.99896436813532</td><td>4681.0204</td><td>5225.6938</td><td>36.30588457177785</td><td>5225.6938</td><td>5500.4405</td><td>172.64233076376905</td><td>5551.0518</td><td>5873.9997</td><td>212.71121405423793</td><td>5873.9997</td><td>6512.6654</td></tr>\n",
       "<tr><td>CMFGEN</td><td>CMFGEN</td><td>-0.009105108669825057</td><td>3991.7435</td><td>4001.3837</td><td>494.416445154679</td><td>3991.7435</td><td>4683.4305</td><td>121.11719265998437</td><td>4683.4305</td><td>5052.1695</td><td>44.451503110807494</td><td>5249.7944</td><td>5500.4405</td><td>176.62597043060885</td><td>5551.0518</td><td>5886.05</td><td>311.7512019569669</td><td>5886.05</td><td>6551.2263</td></tr>\n",
       "</table>"
      ],
      "text/plain": [
       "<Table length=5>\n",
       "model  version          pW2          ...        pW7         pW7_start  pW7_end \n",
       "str100  str100        float64        ...      float64        float64   float64 \n",
       "------ ------- --------------------- ... ------------------ --------- ---------\n",
       "   obs            52.225438367924625 ... 196.28587634612143 5833.0287 6356.0115\n",
       "CMFGEN  CMFGEN  -0.00144618085945325 ... 230.10608198799537 5873.9997 6515.0754\n",
       "CMFGEN  CMFGEN                   0.0 ...  269.6995374519453 5873.9997 6517.4855\n",
       "CMFGEN  CMFGEN   0.15730971099052482 ... 212.71121405423793 5873.9997 6512.6654\n",
       "CMFGEN  CMFGEN -0.009105108669825057 ...  311.7512019569669   5886.05 6551.2263"
      ]
     },
     "execution_count": 8,
     "metadata": {},
     "output_type": "execute_result"
    }
   ],
   "source": [
    "model_list = (m102, m104, m14 , m17)\n",
    "ew_results = ew.tabulate_pew_spectrum(obs_dates[0], wavelength[0], flux[0], model_list, False)\n",
    "ew_results\n"
   ]
  },
  {
   "cell_type": "code",
   "execution_count": 9,
   "metadata": {
    "scrolled": false
   },
   "outputs": [],
   "source": [
    "from sndata.csp import dr1\n",
    "# ew.tabulate_pew(dr1, model_list, True, verbose=True)"
   ]
  },
  {
   "cell_type": "code",
   "execution_count": 10,
   "metadata": {},
   "outputs": [
    {
     "ename": "NameError",
     "evalue": "name 'sources' is not defined",
     "output_type": "error",
     "traceback": [
      "\u001b[0;31m---------------------------------------------------------------------------\u001b[0m",
      "\u001b[0;31mNameError\u001b[0m                                 Traceback (most recent call last)",
      "\u001b[0;32m<ipython-input-10-9e9c184f2fef>\u001b[0m in \u001b[0;36m<module>\u001b[0;34m\u001b[0m\n\u001b[0;32m----> 1\u001b[0;31m \u001b[0;32mfor\u001b[0m \u001b[0msource\u001b[0m \u001b[0;32min\u001b[0m \u001b[0msources\u001b[0m\u001b[0;34m:\u001b[0m\u001b[0;34m\u001b[0m\u001b[0;34m\u001b[0m\u001b[0m\n\u001b[0m\u001b[1;32m      2\u001b[0m     \u001b[0mplt\u001b[0m\u001b[0;34m.\u001b[0m\u001b[0mplot\u001b[0m\u001b[0;34m(\u001b[0m\u001b[0mew_results\u001b[0m\u001b[0;34m[\u001b[0m\u001b[0;34m'time'\u001b[0m\u001b[0;34m]\u001b[0m\u001b[0;34m,\u001b[0m \u001b[0mew_results\u001b[0m\u001b[0;34m[\u001b[0m\u001b[0;34mf'pW7_C{source.version}'\u001b[0m\u001b[0;34m]\u001b[0m\u001b[0;34m,\u001b[0m \u001b[0mlabel\u001b[0m\u001b[0;34m=\u001b[0m\u001b[0msource\u001b[0m\u001b[0;34m.\u001b[0m\u001b[0mversion\u001b[0m\u001b[0;34m)\u001b[0m\u001b[0;34m\u001b[0m\u001b[0;34m\u001b[0m\u001b[0m\n\u001b[1;32m      3\u001b[0m     \u001b[0mplt\u001b[0m\u001b[0;34m.\u001b[0m\u001b[0mscatter\u001b[0m\u001b[0;34m(\u001b[0m\u001b[0mew_results\u001b[0m\u001b[0;34m[\u001b[0m\u001b[0;34m'time'\u001b[0m\u001b[0;34m]\u001b[0m\u001b[0;34m,\u001b[0m \u001b[0mew_results\u001b[0m\u001b[0;34m[\u001b[0m\u001b[0;34mf'pW7_C{source.version}'\u001b[0m\u001b[0;34m]\u001b[0m\u001b[0;34m,\u001b[0m \u001b[0mlabel\u001b[0m\u001b[0;34m=\u001b[0m\u001b[0;32mNone\u001b[0m\u001b[0;34m)\u001b[0m\u001b[0;34m\u001b[0m\u001b[0;34m\u001b[0m\u001b[0m\n\u001b[1;32m      4\u001b[0m \u001b[0;34m\u001b[0m\u001b[0m\n\u001b[1;32m      5\u001b[0m \u001b[0mplt\u001b[0m\u001b[0;34m.\u001b[0m\u001b[0mplot\u001b[0m\u001b[0;34m(\u001b[0m\u001b[0mew_results\u001b[0m\u001b[0;34m[\u001b[0m\u001b[0;34m'time'\u001b[0m\u001b[0;34m]\u001b[0m\u001b[0;34m,\u001b[0m \u001b[0mew_results\u001b[0m\u001b[0;34m[\u001b[0m\u001b[0;34mf'pW7'\u001b[0m\u001b[0;34m]\u001b[0m\u001b[0;34m,\u001b[0m \u001b[0mlabel\u001b[0m\u001b[0;34m=\u001b[0m\u001b[0;34m'data'\u001b[0m\u001b[0;34m)\u001b[0m\u001b[0;34m\u001b[0m\u001b[0;34m\u001b[0m\u001b[0m\n",
      "\u001b[0;31mNameError\u001b[0m: name 'sources' is not defined"
     ]
    }
   ],
   "source": [
    "for source in sources:\n",
    "    plt.plot(ew_results['time'], ew_results[f'pW7_C{source.version}'], label=source.version)\n",
    "    plt.scatter(ew_results['time'], ew_results[f'pW7_C{source.version}'], label=None)\n",
    "\n",
    "plt.plot(ew_results['time'], ew_results[f'pW7'], label='data')\n",
    "plt.scatter(ew_results['time'], ew_results[f'pW7'], label=None)\n",
    "plt.legend()\n"
   ]
  },
  {
   "cell_type": "code",
   "execution_count": 13,
   "metadata": {},
   "outputs": [
    {
     "data": {
      "text/plain": [
       "['z', 't0', 'x0', 'extebv']"
      ]
     },
     "execution_count": 13,
     "metadata": {},
     "output_type": "execute_result"
    }
   ],
   "source": [
    "m104.param_names"
   ]
  },
  {
   "cell_type": "code",
   "execution_count": null,
   "metadata": {},
   "outputs": [],
   "source": []
  }
 ],
 "metadata": {
  "kernelspec": {
   "display_name": "Python [conda env:cmfgen] *",
   "language": "python",
   "name": "conda-env-cmfgen-py"
  },
  "language_info": {
   "codemirror_mode": {
    "name": "ipython",
    "version": 3
   },
   "file_extension": ".py",
   "mimetype": "text/x-python",
   "name": "python",
   "nbconvert_exporter": "python",
   "pygments_lexer": "ipython3",
   "version": "3.7.3"
  }
 },
 "nbformat": 4,
 "nbformat_minor": 2
}
