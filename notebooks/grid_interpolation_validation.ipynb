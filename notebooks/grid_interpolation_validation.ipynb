{
 "cells": [
  {
   "cell_type": "markdown",
   "metadata": {},
   "source": [
    "# Grid Interpolation Validation\n",
    "\n",
    "As part of porting the CMFGEN models to SNCosmo, the models are interpolated onto a uniform grid. As a simple sanity check, this notebook calculates the residuals between the original, un-interpolated model and the gridded model."
   ]
  },
  {
   "cell_type": "code",
   "execution_count": null,
   "metadata": {},
   "outputs": [],
   "source": [
    "import sys\n",
    "from pathlib import Path\n",
    "\n",
    "import numpy as np\n",
    "import sncosmo\n",
    "from bokeh.plotting import save, ColumnDataSource, figure\n",
    "from bokeh.layouts import column\n",
    "from bokeh.models.callbacks import CustomJS\n",
    "from bokeh.models.widgets import Dropdown\n",
    "\n",
    "sys.path.insert(0, '../')\n",
    "from analysis import models\n"
   ]
  },
  {
   "cell_type": "code",
   "execution_count": null,
   "metadata": {},
   "outputs": [],
   "source": [
    "# Load models for different masses\n",
    "models.register_sources(force=True)\n",
    "m102 = sncosmo.get_source('CMFGEN', version=1.02)\n",
    "m104 = sncosmo.get_source('CMFGEN', version=1.04)\n",
    "m14 = sncosmo.get_source('CMFGEN', version=1.4)\n",
    "m17 = sncosmo.get_source('CMFGEN', version=1.7)\n",
    "sources = (m102, m104, m14, m17)\n"
   ]
  },
  {
   "cell_type": "markdown",
   "metadata": {},
   "source": [
    "## Model Resolutions"
   ]
  },
  {
   "cell_type": "markdown",
   "metadata": {},
   "source": [
    "Although the wavelength range for each model is constant with phase, the resolution is not. Here we summarize the range and resolution of each model (i.e., we validate the previous sentence). We note that the wavelength range of the interpolated model is sometimes less than the original model, but this difference is small (less than an Angstrom)."
   ]
  },
  {
   "cell_type": "code",
   "execution_count": null,
   "metadata": {},
   "outputs": [],
   "source": [
    "for source in sources:\n",
    "    _, interp_wave, _ = source.interpolated_model()\n",
    "    original_phase, original_wave, _ = source.original_model()\n",
    "\n",
    "    # Determine wavelength range and resolution for each phase\n",
    "    original_range = []\n",
    "    original_resolution = []\n",
    "    for w in original_wave:\n",
    "        original_range.append([min(w), max(w)])\n",
    "        original_resolution.append(len(w))\n",
    "    \n",
    "    # We transpose so index 0 is all minimum values and index 1 is maxima\n",
    "    original_range = np.transpose(original_range)\n",
    "    \n",
    "    # Find range of minimum and maximum wavelengths over all phases\n",
    "    min_original_range = min(original_range[0]), max(original_range[0])\n",
    "    max_original_range = min(original_range[1]), max(original_range[1])\n",
    "    \n",
    "    print(f'{source.name} M = {source.version}:\\n'\n",
    "          f'    Phase range: {min(original_phase)} - {max(original_phase)}\\n'\n",
    "          f'    Phase resolution: {len(original_phase)}\\n'\n",
    "          f'    Original range: {min_original_range} - {max_original_range}\\n'\n",
    "          f'    Original resoultion: {min(original_resolution)} - {max(original_resolution)}\\n'\n",
    "          f'    Interpolated range: {min(interp_wave)} - {max(interp_wave)}\\n'\n",
    "          f'    Interpolated resoultion: {len(interp_wave)}\\n')\n",
    "\n"
   ]
  },
  {
   "cell_type": "markdown",
   "metadata": {},
   "source": [
    "## Calculating Residuals\n",
    "\n",
    "We calculate residuals for each model as a function of wavelength using the wavelength values of the original model. Since sncosmo is not able to model flux outside the interpolated wavelength range, we specify a `max_wavelength` value when calculating residuals."
   ]
  },
  {
   "cell_type": "code",
   "execution_count": null,
   "metadata": {},
   "outputs": [],
   "source": [
    "def calc_source_residuals(source, max_wavelength):\n",
    "    \"\"\"Calculate residuals between the original and interpolated models\n",
    "    \n",
    "    Args:\n",
    "        source        (Source): An sncosmo source\n",
    "        max_wavelength (float): Upper wavelength bound for residuals\n",
    "\n",
    "    Returns:\n",
    "        A 1d array with phase values\n",
    "        A 2d array with wavelength values for each phase\n",
    "        A 2d array with flux residuals for each wavelength\n",
    "    \"\"\"\n",
    "\n",
    "    # Determine residuals for each wavelength\n",
    "    phase, wavelength, residuals  = [], [], []\n",
    "    for orig_phase, orig_wave, orig_flux in zip(*source.original_model()):\n",
    "\n",
    "        # Only consider data below the specified wavelength range.\n",
    "        indices = orig_wave < max_wavelength\n",
    "        orig_flux = orig_flux[indices]\n",
    "        orig_wave = orig_wave[indices]\n",
    "\n",
    "        # Calculate residuals for this wavelength\n",
    "        grid_flux = source.flux(orig_phase, orig_wave)\n",
    "        phase.append(orig_phase)\n",
    "        wavelength.append(orig_wave)\n",
    "        residuals.append((orig_flux - grid_flux) / orig_flux)\n",
    "    \n",
    "    return phase, wavelength, residuals\n",
    "\n",
    "\n",
    "def calc_residuals(source_list, max_wavelength=67e4):\n",
    "    \"\"\"Calculate residuals for a list of sources\n",
    "    \n",
    "    Args:\n",
    "        source_list (list[Source]): A list of sncosmo sources\n",
    "        max_wavelength     (float): Upper wavelength bound for\n",
    "            residuals calculation (Default: 67e4) \n",
    "            \n",
    "    Returns:\n",
    "        A 1d array with phase values for each source\n",
    "        A 2d array with wavelength values for each source and phase\n",
    "        A 2d array with flux residuals for each source and wavelength\n",
    "    \"\"\"\n",
    "    \n",
    "    return {f'{s.name}_{s.version}': calc_source_residuals(s, max_wavelength) for s in source_list}\n"
   ]
  },
  {
   "cell_type": "code",
   "execution_count": null,
   "metadata": {},
   "outputs": [],
   "source": [
    "residuals = calc_residuals(sources)\n"
   ]
  },
  {
   "cell_type": "markdown",
   "metadata": {},
   "source": [
    "## Examining Residuals\n",
    "\n",
    "The models span a large number of phases and wavelengths, making visualization difficult for all the available data at one - even for a single model. We instead save interactive figures of the residuals for each source where the user can select a specific phase value."
   ]
  },
  {
   "cell_type": "code",
   "execution_count": null,
   "metadata": {},
   "outputs": [],
   "source": [
    "def save_residual_plot(residual, out_path):\n",
    "    \"\"\"Save interactive figure of residuals for a given model to file\n",
    "    \n",
    "    Output is saved in .html format.\n",
    "    \n",
    "    Args:\n",
    "        residual (array): Return of ``calc_source_residuals``\n",
    "        out_path  (Path): Output file path\n",
    "    \"\"\"\n",
    "    \n",
    "    # Format data in a bokeh friendly way\n",
    "    data = {str(phase): {'wave': wave, 'resid': resid} for phase, wave, resid in zip(*residual)}\n",
    "    cd_source = ColumnDataSource(data=data['0.75'])\n",
    "    \n",
    "    # Add dropdown button for selecting phase\n",
    "    phase_menu = [(str(p), str(p)) for p in data.keys()]\n",
    "    dropdown = Dropdown(label='Model Phase', menu=phase_menu)\n",
    "    callback = CustomJS(args=dict(source=cd_source, data=data), code=\"\"\"\n",
    "        var phase = cb_obj.value\n",
    "        source.data['wave'] = data[phase]['wave']\n",
    "        source.data['resid'] = data[phase]['resid']\n",
    "        source.change.emit();\n",
    "    \"\"\")\n",
    "    \n",
    "    dropdown.js_on_change('value', callback)\n",
    "    \n",
    "    # Plot and save data\n",
    "    s = figure(width=450, plot_height=300, title='CMFGEN M = 1.02')\n",
    "    s.circle('wave', 'resid', source=cd_source, size=2, alpha=0.5)\n",
    "    layout = column(dropdown, s)\n",
    "    save(layout, filename=str(out_path), title=out_path.stem)\n"
   ]
  },
  {
   "cell_type": "code",
   "execution_count": null,
   "metadata": {},
   "outputs": [],
   "source": [
    "# Protect against \"Run All Cells\" option\n",
    "if False:\n",
    "    out_dir = Path('./figures')\n",
    "    out_dir.mkdir(parents=True, exist_ok=True)\n",
    "    for source_name, resid in residuals.items():\n",
    "        out_path = out_dir / (source_name + '.html')\n",
    "        print(f'Creating {out_path} ...')\n",
    "        save_residual_plot(resid, out_path)\n",
    "\n",
    "    print('Done')\n"
   ]
  },
  {
   "cell_type": "code",
   "execution_count": null,
   "metadata": {},
   "outputs": [],
   "source": []
  }
 ],
 "metadata": {
  "kernelspec": {
   "display_name": "Python [conda env:cmfgen] *",
   "language": "python",
   "name": "conda-env-cmfgen-py"
  },
  "language_info": {
   "codemirror_mode": {
    "name": "ipython",
    "version": 3
   },
   "file_extension": ".py",
   "mimetype": "text/x-python",
   "name": "python",
   "nbconvert_exporter": "python",
   "pygments_lexer": "ipython3",
   "version": "3.7.0"
  }
 },
 "nbformat": 4,
 "nbformat_minor": 2
}
