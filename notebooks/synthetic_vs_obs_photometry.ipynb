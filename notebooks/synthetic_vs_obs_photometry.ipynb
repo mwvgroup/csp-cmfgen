{
 "cells": [
  {
   "cell_type": "code",
   "execution_count": null,
   "metadata": {},
   "outputs": [],
   "source": [
    "from copy import copy\n",
    "\n",
    "import numpy as np\n",
    "import sncosmo\n",
    "from astropy.table import Table\n",
    "from sndata.csp import dr1, dr3\n",
    "\n",
    "dr1.download_module_data()\n",
    "dr3.download_module_data()\n",
    "dr3.register_filters(force=True)\n"
   ]
  },
  {
   "cell_type": "code",
   "execution_count": null,
   "metadata": {
    "scrolled": false
   },
   "outputs": [],
   "source": [
    "# Get ids for targets included in both data releases\n",
    "dr1_ids = dr1.get_available_ids()\n",
    "dr3_ids = dr3.get_available_ids()\n",
    "all_obj_ids = set(dr1_ids).union(dr3_ids)\n",
    "\n",
    "# Get band pass objects for each DR3 filter\n",
    "BAND_DICT = {b: sncosmo.get_bandpass(b) for b in dr3.band_names}\n"
   ]
  },
  {
   "cell_type": "code",
   "execution_count": null,
   "metadata": {
    "scrolled": false
   },
   "outputs": [],
   "source": [
    "def match_obs_times(spectra, photometry, delay=1):\n",
    "\n",
    "    obj_id = spectra_table.meta['obj_id']\n",
    "    out_table = Table(\n",
    "        data=[np.unique(spectra['date'])], \n",
    "        names=['spec_time'],\n",
    "        masked=True\n",
    "    )\n",
    "\n",
    "    # Convert photometry from MJD to JD\n",
    "    photometry = copy(photometry)\n",
    "    photometry['time'] += 2400000.5\n",
    "        \n",
    "    out_table.meta['bands'] = []\n",
    "    for band in set(photometry['band']):\n",
    "        band_data = photometry[photometry['band'] == band]\n",
    "        \n",
    "        # Get nearest photometric observation\n",
    "        phot_times = np.array(band_data['time'])\n",
    "        spec_times = np.array(out_table['spec_time'])\n",
    "        delta_t = np.abs(spec_times[:, None] - phot_times)\n",
    "        min_indices = delta_t.argmin(axis=1)\n",
    "        \n",
    "        out_table[band] = band_data['flux'][min_indices]\n",
    "        # out_table[band].mask = np.abs(delta_t[min_indices]) > delay\n",
    "        if not all(out_table[band].mask):\n",
    "            out_table.meta['bands'].append(band)\n",
    "    \n",
    "    return out_table\n",
    "\n",
    "\n",
    "def calc_synthetic_photometry(spectra, photometry):\n",
    "    \n",
    "    match_table = match_obs_times(spectra, photometry)\n",
    "    for band_name in match_table.meta['bands']:\n",
    "        band = BAND_DICT[band_name]\n",
    "        flux = spectra['flux'] * band(spectra['wavelength'])\n",
    "    \n",
    "    return match_table\n",
    "    \n",
    "spectra_table = dr1.get_data_for_id('2005kc')\n",
    "phot_table = dr3.get_data_for_id('2005kc', format_sncosmo=True)\n",
    "calc_synthetic_photometry(spectra_table, phot_table)\n"
   ]
  },
  {
   "cell_type": "code",
   "execution_count": null,
   "metadata": {},
   "outputs": [],
   "source": []
  }
 ],
 "metadata": {
  "kernelspec": {
   "display_name": "Python [conda env:cmfgen] *",
   "language": "python",
   "name": "conda-env-cmfgen-py"
  },
  "language_info": {
   "codemirror_mode": {
    "name": "ipython",
    "version": 3
   },
   "file_extension": ".py",
   "mimetype": "text/x-python",
   "name": "python",
   "nbconvert_exporter": "python",
   "pygments_lexer": "ipython3",
   "version": "3.7.3"
  }
 },
 "nbformat": 4,
 "nbformat_minor": 2
}
