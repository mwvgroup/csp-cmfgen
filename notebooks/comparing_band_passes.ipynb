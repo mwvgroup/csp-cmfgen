{
 "cells": [
  {
   "cell_type": "markdown",
   "metadata": {},
   "source": [
    "# Comparing Band-Passes\n",
    "\n",
    "Targets in CSP DR3 have observations taken at using multiple instruments. This results in multiple physical filters being used for certain band-passes. To minimize the amount of book-keeping we have to do, this notebook justifies why we can't ignore certain bands (even though that would make our lives easier).\n",
    "\n",
    "#### Table of Contents:\n",
    "\n",
    "1. <a href='#transmission_filters'>Transmission Filters</a>: Inspect the CSP transmission filters and the number of observations in each band.\n",
    "1. <a href='#picking_y_band'>Picking a \"Y\" Band</a>: Comparing the `Y` and `Ydw` bands.\n"
   ]
  },
  {
   "cell_type": "code",
   "execution_count": null,
   "metadata": {},
   "outputs": [],
   "source": [
    "import numpy as np\n",
    "import sys\n",
    "\n",
    "import sncosmo\n",
    "from matplotlib import pyplot as plt\n",
    "from matplotlib.ticker import MultipleLocator\n",
    "from sndata.csp import dr3\n",
    "\n",
    "sys.path.insert(0, '../')\n",
    "from analysis import utils\n",
    "\n",
    "dr3.register_filters(force=True)\n"
   ]
  },
  {
   "cell_type": "markdown",
   "metadata": {},
   "source": [
    "## Transmission Filters <a id='transmission_filters'></a>\n",
    "\n",
    "We review the CSP filter transmission curves and take note that there are multiple \"duplicate\" filters. This is due to observations being performed on multiple telescopes or, in the case of V band, a filter being broken and subsequently replaced."
   ]
  },
  {
   "cell_type": "code",
   "execution_count": null,
   "metadata": {},
   "outputs": [],
   "source": [
    "plt.figure(figsize=(10, 5))\n",
    "for band_name in dr3.band_names:\n",
    "    band = sncosmo.get_bandpass(band_name)\n",
    "    band_label = band_name.split('_')[-1]\n",
    "    \n",
    "    plt.plot(band.wave, band.trans, label=band_label)\n",
    "    plt.xlabel('Wavelength (A)')\n",
    "    plt.ylabel('Transmission')\n",
    "\n",
    "plt.legend()  \n",
    "plt.ylim(0, 1)\n",
    "plt.tight_layout()\n"
   ]
  },
  {
   "cell_type": "markdown",
   "metadata": {},
   "source": [
    "In the following figure, we note that observations are not available in all bands. Not only is the number of observations in the NIR is significantly less than in the optical, the only bands used observed with the Dupont telescope in the NIR is the `Ydw` band."
   ]
  },
  {
   "cell_type": "code",
   "execution_count": null,
   "metadata": {},
   "outputs": [],
   "source": [
    "data_count = {b: [] for b in dr3.band_names}\n",
    "for table in dr3.iter_data(format_sncosmo=True):\n",
    "    for band in dr3.band_names:\n",
    "        data_count[band].append(len(table[table['band'] == band]))\n"
   ]
  },
  {
   "cell_type": "code",
   "execution_count": null,
   "metadata": {},
   "outputs": [],
   "source": [
    "plot_order = 'ugriBVYJH'\n",
    "fig, axes = plt.subplots(4, 3, figsize=(20, 12))\n",
    "for band, axis in zip(plot_order, axes.flatten()):\n",
    "    axis.hist(data_count['csp_dr3_' + band], label=band)\n",
    "    axis.set_xlabel('Number of Observations')\n",
    "    \n",
    "axes[1, 2].hist(data_count['csp_dr3_V0'], label='V0')\n",
    "axes[1, 2].hist(data_count['csp_dr3_V1'], label='V01')\n",
    "\n",
    "axes[3, 0].hist(data_count['csp_dr3_Ydw'], label='Ydw')\n",
    "axes[3, 1].hist(data_count['csp_dr3_Jdw'], label='Jdw')\n",
    "axes[3, 2].hist(data_count['csp_dr3_Hdw'], label='Hdw')\n",
    "\n",
    "[axis.legend() for axis in axes.flatten()]\n",
    "plt.tight_layout()\n",
    "plt.show()\n"
   ]
  },
  {
   "cell_type": "markdown",
   "metadata": {},
   "source": [
    "## Picking a \"Y\" Band <a id='picking_y_band'></a>\n",
    "\n",
    "Unfortunately, we can't just pick use observations from a single `Y` band since some targets may have a significant number of observations in both bands."
   ]
  },
  {
   "cell_type": "code",
   "execution_count": null,
   "metadata": {},
   "outputs": [],
   "source": [
    "plt.scatter(data_count['csp_dr3_Y'], data_count['csp_dr3_Ydw'])\n",
    "plt.xlabel('Number of Y Observations')\n",
    "plt.ylabel('Number of Ydw Observations')"
   ]
  },
  {
   "cell_type": "markdown",
   "metadata": {},
   "source": [
    "We also can't justify ignoring one of the `Y` bands based on its phase coverage since observations can cover a significant portion of the light curve. (Note that the below figure only includes objects with a published `t0` value)"
   ]
  },
  {
   "cell_type": "code",
   "execution_count": null,
   "metadata": {},
   "outputs": [],
   "source": [
    "phase_limits = dict()\n",
    "table_iterator = dr3.iter_data(format_sncosmo=True, filter_func=utils.filter_has_csp_data)\n",
    "for table in table_iterator:\n",
    "    t0 = utils.get_csp_t0(table.meta['obj_id'])\n",
    "    for band in ['csp_dr3_Y', 'csp_dr3_Ydw']:\n",
    "        band_data = table[table['band'] == band]\n",
    "        if band_data:\n",
    "            time = band_data['time'] - t0\n",
    "            phase_limits.setdefault(band, [])\n",
    "            phase_limits[band].append((min(time), max(time)))\n",
    "    "
   ]
  },
  {
   "cell_type": "code",
   "execution_count": null,
   "metadata": {},
   "outputs": [],
   "source": [
    "fig, axes = plt.subplots(1, 2, figsize=(10, 5))\n",
    "for band, axis in zip(phase_limits, axes.flatten()):\n",
    "    hist_data = np.transpose(phase_limits[band])\n",
    "\n",
    "    axis.hist(hist_data[1], label=f'Max phase')\n",
    "    axis.hist(hist_data[0], label=f'Min phase')\n",
    "\n",
    "    av_min = np.average(hist_data[0])\n",
    "    av_max = np.average(hist_data[1])\n",
    "    axis.axvline(av_min, linestyle='-', color='k', label=f'Avg min = {av_min:.2}')\n",
    "    axis.axvline(av_max, linestyle='--', color='k', label=f'Avg min = {av_max:.2}')\n",
    "\n",
    "    axis.set_title(band.split('_')[-1])\n",
    "    axis.set_xlim(-20, 150)\n",
    "    axis.xaxis.set_minor_locator(MultipleLocator(10))              \n",
    "    axis.legend()\n",
    "    \n",
    "plt.tight_layout()\n",
    "\n"
   ]
  },
  {
   "cell_type": "code",
   "execution_count": null,
   "metadata": {},
   "outputs": [],
   "source": []
  }
 ],
 "metadata": {
  "kernelspec": {
   "display_name": "Python [conda env:cmfgen] *",
   "language": "python",
   "name": "conda-env-cmfgen-py"
  },
  "language_info": {
   "codemirror_mode": {
    "name": "ipython",
    "version": 3
   },
   "file_extension": ".py",
   "mimetype": "text/x-python",
   "name": "python",
   "nbconvert_exporter": "python",
   "pygments_lexer": "ipython3",
   "version": "3.7.3"
  }
 },
 "nbformat": 4,
 "nbformat_minor": 2
}
