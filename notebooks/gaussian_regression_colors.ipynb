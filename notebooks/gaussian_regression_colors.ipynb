{
 "cells": [
  {
   "cell_type": "markdown",
   "metadata": {},
   "source": [
    "# Gaussian Regression Colors\n",
    "\n",
    "This notebook uses Gaussian regression to fit CSP light curves and model the evolution of observed color over time. Results are compared to the color evolution of various supernova models.\n",
    "\n",
    "#### Analysis steps considered by this notebook:\n",
    "\n",
    "1. Read in and format data\n",
    "1. Inspect the transmission curves of each CSP filter\n",
    "1. Inspect the modeled color evolution\n",
    "1. Fit observed light curves using a Gaussian regression\n",
    "1. Compare the regressed color evolution against each model\n",
    "1. Calculate chi-squared results\n"
   ]
  },
  {
   "cell_type": "code",
   "execution_count": null,
   "metadata": {},
   "outputs": [],
   "source": [
    "import sys\n",
    "from copy import deepcopy\n",
    "\n",
    "import numpy as np\n",
    "import sncosmo\n",
    "from matplotlib import pyplot as plt\n",
    "from sndata.csp import dr3\n",
    "\n",
    "sys.path.insert(0, '../')\n",
    "from analysis import models\n",
    "from analysis import lc_colors\n"
   ]
  },
  {
   "cell_type": "markdown",
   "metadata": {},
   "source": [
    "We begin by reading in photometric data from an arbitrarily chosen supernova. To compare each model against the observed light curve, the data and models need to share a common time axis. We accomplish this by using the CSP published `t0` value to shift the observed time axis so that `t=0` corresponds with the time of peak flux in the B-band. A similar shift is applied to each of the models; however, that logic is wrapped in the various plotting functions we define later on. We also add a custom extinction component to each model using the Fitzpatrick 99 extinction law."
   ]
  },
  {
   "cell_type": "code",
   "execution_count": null,
   "metadata": {},
   "outputs": [],
   "source": [
    "# Register models and data with sncosmo\n",
    "models.register_sources(force=True)\n",
    "dr3.download_module_data()\n",
    "dr3.register_filters(force=True)\n",
    "\n",
    "# Pick a CSP target to use in demo plots\n",
    "demo_id = '2005kc'\n",
    "demo_data = dr3.get_data_for_id(demo_id, format_sncosmo=True)\n",
    "demo_data['time'] -= lc_colors.get_csp_t0(demo_id)\n",
    "\n",
    "# Load various SN models\n",
    "m102 = sncosmo.Model(sncosmo.get_source('CMFGEN', version=1.02))\n",
    "m104 = sncosmo.Model(sncosmo.get_source('CMFGEN', version=1.04))\n",
    "m14 = sncosmo.Model(sncosmo.get_source('CMFGEN', version=1.4))\n",
    "m17 = sncosmo.Model(sncosmo.get_source('CMFGEN', version=1.7))\n",
    "salt2 = sncosmo.Model(sncosmo.get_source('salt2', version='2.4'))\n",
    "\n",
    "# Add an extinction component to each model\n",
    "# The extinction component is zero until changed\n",
    "model_list = [m102, m104, m14, m17, salt2]\n",
    "for model in model_list:\n",
    "    model.add_effect(sncosmo.F99Dust(), 'ext', 'rest')\n"
   ]
  },
  {
   "cell_type": "markdown",
   "metadata": {},
   "source": [
    "## Transmission Filters\n",
    "\n",
    "We review the CSP filter transmission curves and take note that there are multiple \"duplicate\" filters. This is due to observations being performed on multiple telescopes or, in the case of V band, a filter being broken and subsequently replaced."
   ]
  },
  {
   "cell_type": "code",
   "execution_count": null,
   "metadata": {},
   "outputs": [],
   "source": [
    "plt.figure(figsize=(10, 5))\n",
    "for band_name in dr3.band_names:\n",
    "    band = sncosmo.get_bandpass(band_name)\n",
    "    band_label = band_name.split('_')[-1]\n",
    "    \n",
    "    plt.plot(band.wave, band.trans, label=band_label)\n",
    "    plt.xlabel('Wavelength (A)')\n",
    "    plt.ylabel('Transmission')\n",
    "\n",
    "plt.legend()  \n",
    "plt.ylim(0, 1)\n",
    "plt.tight_layout()\n"
   ]
  },
  {
   "cell_type": "code",
   "execution_count": null,
   "metadata": {},
   "outputs": [],
   "source": [
    "columns = 3\n",
    "scale_factor = 4\n",
    "\n",
    "rows = int(np.ceil(len(dr3.band_names) / columns))\n",
    "fig_shape = (rows, columns)\n",
    "fig_size = (scale_factor * rows, scale_factor * columns)\n",
    "\n",
    "fig, axes = plt.subplots(*fig_shape, figsize=fig_size)\n",
    "for band_name, axis in zip(dr3.band_names, axes.flatten()):\n",
    "    band = sncosmo.get_bandpass(band_name)\n",
    "    axis.plot(band.wave, band.trans, label=band_name)\n",
    "    axis.set_ylim(0, 1)\n",
    "    axis.legend()\n",
    "    \n",
    "for axis in axes[4, :]:\n",
    "    axis.set_xlabel('Wavelength (A)')\n",
    "\n",
    "for axis in axes[:, 0]:\n",
    "    axis.set_ylabel('Transmission')\n",
    "    \n",
    "plt.tight_layout()\n"
   ]
  },
  {
   "cell_type": "markdown",
   "metadata": {},
   "source": [
    "For simplicity, we define a set of fiducial band passes with unique effective wavelengths."
   ]
  },
  {
   "cell_type": "code",
   "execution_count": null,
   "metadata": {},
   "outputs": [],
   "source": [
    "unique_bands = np.array([\n",
    "    'csp_dr3_u',\n",
    "    'csp_dr3_g',\n",
    "    'csp_dr3_r',\n",
    "    'csp_dr3_i',\n",
    "    'csp_dr3_B',\n",
    "    'csp_dr3_V',\n",
    "    'csp_dr3_Y',\n",
    "    'csp_dr3_H',\n",
    "    'csp_dr3_J'\n",
    "])\n",
    "\n",
    "color_combos = [(unique_bands[i], unique_bands[i + 1]) for i in range(len(unique_bands) - 1)]\n"
   ]
  },
  {
   "cell_type": "markdown",
   "metadata": {},
   "source": [
    "## CMFGEN Color Evolution\n",
    "\n",
    "To develop intuition, we compare of CMFGEN color evolution against Salt2.4. We recognize that the color evolution of Salt2 is dependent on the model parameters. However, we only concern ourselves with a fiducial model having the default parameters.\n"
   ]
  },
  {
   "cell_type": "code",
   "execution_count": null,
   "metadata": {},
   "outputs": [],
   "source": [
    "def legend_without_duplicate_labels(ax):\n",
    "    \"\"\"Add a legend to a figure axis that only has unique labels\n",
    "    \n",
    "    Args:\n",
    "        ax (axis): A matplotlib axis\n",
    "    \"\"\"\n",
    "\n",
    "    handles, labels = ax.get_legend_handles_labels()\n",
    "    unique = [(h, l) for i, (h, l) in enumerate(zip(handles, labels)) if l not in labels[:i]]\n",
    "    ax.legend(*zip(*unique))\n",
    "\n",
    "\n",
    "def subplot_model_colors(model, band_combos, axes, **kwargs):\n",
    "    \"\"\"Plot model colors for a given collection of bandpasses\n",
    "    \n",
    "    Plots are made on an existing figure\n",
    "    \n",
    "    Args:\n",
    "        model                  (Model): Model to calculate color with\n",
    "        band_combos (list[tuple[str]]): Band combos to calculate color for\n",
    "        axes                   (array): Use existing axes\n",
    "        Any other style kwargs for pyplot.plot\n",
    "    \"\"\"\n",
    "\n",
    "    axis_list = axes.flatten() if isinstance(axes, np.ndarray) else [axes]\n",
    "    if len(axis_list) < len(band_combos) - 1:\n",
    "        raise ValueError('Not enough axes.')\n",
    "    \n",
    "    time = np.arange(model.mintime(), model.maxtime())\n",
    "    t0 = model.source.peakphase('csp_dr3_G')\n",
    "    for (band1, band2), axis in zip(band_combos, axis_list):\n",
    "        try:\n",
    "            c = model.color(band1, band2, 'ab', time)\n",
    "            \n",
    "        except ValueError as e:\n",
    "            print(f'{model.source.name} {model.source.version}: {e}')\n",
    "            pass\n",
    "\n",
    "        else:\n",
    "            label = f'{model.source.name} {model.source.version}'\n",
    "            axis.plot(time - t0, c, label=label, **kwargs)\n",
    "            \n",
    "            y_label = f'{band1.split(\"_\")[-1]} - {band2.split(\"_\")[-1]}'\n",
    "            axis.set_ylabel(y_label)\n",
    "            axis.set_xlabel('Time')\n",
    "            legend_without_duplicate_labels(axis)\n",
    "\n",
    "\n",
    "def plot_model_colors(models, bands):\n",
    "    \"\"\"Plot model colors for a given collection of models and bandpasses\n",
    "    \n",
    "    Args:\n",
    "        models (list[Model]): Models to calculate color with\n",
    "        bands    (list[str]): Bands to calculate color for\n",
    "    \"\"\"\n",
    "    \n",
    "    band_combos = [(bands[i], bands[i + 1])for i in range(len(bands) - 1)]\n",
    "    \n",
    "    columns = 3\n",
    "    rows = int(np.ceil(len(band_combos) / columns))\n",
    "    fig_shape = (rows, columns)\n",
    "    fig_size = (4 * rows, 4 * columns)\n",
    "    \n",
    "    fig, axes = plt.subplots(*fig_shape, figsize=fig_size)\n",
    "    for model in models:\n",
    "        subplot_model_colors(model, band_combos, axes)\n",
    "        \n",
    "    handles, labels = axes.flatten()[0].get_legend_handles_labels()\n",
    "    # fig.legend(handles, labels)\n",
    "    plt.tight_layout()\n",
    "    return fig, axes\n"
   ]
  },
  {
   "cell_type": "code",
   "execution_count": null,
   "metadata": {},
   "outputs": [],
   "source": [
    "# Protect against chages that may \n",
    "# propogate from later in the notebook\n",
    "for model in model_list: \n",
    "    model.set(extebv=0)\n",
    "\n",
    "fig, axes = plot_model_colors(model_list, unique_bands)\n"
   ]
  },
  {
   "cell_type": "markdown",
   "metadata": {},
   "source": [
    "# Gaussian Regression\n",
    "\n",
    "We use Gaussian regression to fit the light curves in each band. These fits are then compared against a simultaneous fit performed using the Salt2 model.\n"
   ]
  },
  {
   "cell_type": "code",
   "execution_count": null,
   "metadata": {
    "scrolled": false
   },
   "outputs": [],
   "source": [
    "def plot_regression(data, time, bands, pred_flux, pred_unc):\n",
    "    \"\"\"Plot regression results\n",
    "    \n",
    "    Args:\n",
    "        data            (Table): The measured photometric data\n",
    "        pred_flux (list[float]): Predicted flux from the regression\n",
    "        pred_unc  (list[float]): Flux uncertainty from the regression\n",
    "    \n",
    "    Returns:\n",
    "        The figure object\n",
    "        An array of figure axes\n",
    "    \"\"\"\n",
    "\n",
    "    columns = 2\n",
    "    rows = 5\n",
    "    fig_shape = (rows, columns)\n",
    "    fig_size = (4 * rows, 8 * columns)\n",
    "\n",
    "    fig, axes = plt.subplots(*fig_shape, figsize=fig_size)\n",
    "    for axis in axes[rows - 1]:\n",
    "        axis.set_xlabel('Time')\n",
    "        \n",
    "    for axis in axes.flatten()[::2]:\n",
    "        axis.set_ylabel('Flux')\n",
    "        \n",
    "    plot_data = zip(bands, axes.flatten(), pred_flux, pred_unc)\n",
    "    for band_name, axis, f, fe in plot_data:\n",
    "        band_data = data[data['band'] == band_name]\n",
    "        axis.scatter(band_data['time'], band_data['flux'], label=band_name)\n",
    "        axis.errorbar(band_data['time'], band_data['flux'], band_data['fluxerr'], linestyle='', label=None)\n",
    "        axis.plot(time, f, linestyle='--', color='black', label='Regression')\n",
    "        axis.fill_between(\n",
    "            time, \n",
    "            f - fe, \n",
    "            f + fe, \n",
    "            alpha=.3, \n",
    "            color='grey',\n",
    "            label='Regression Error'\n",
    "        )\n",
    "        \n",
    "        axis.set_xlim(min(time), max(time))\n",
    "        axis.legend()\n",
    "\n",
    "    plt.tight_layout()\n",
    "    return fig, axes\n",
    "\n",
    "\n",
    "def subplot_sncosmo_fit(time, bands, fitted_model, axes):\n",
    "    \"\"\"\n",
    "    \n",
    "    Args:\n",
    "        fitted_model (Model): An SNCosmo model fitted to the data\n",
    "        axes         (array): Use existing axes\n",
    "    \"\"\"\n",
    "\n",
    "    for band, axis in zip(bands, axes.flatten()):\n",
    "        try:\n",
    "            band_flux = fitted_model.bandflux(band, time)\n",
    "        \n",
    "        except ValueError as e:\n",
    "            print(f'{fitted_model.source.name} {fitted_model.source.version}: {e}')\n",
    "            pass\n",
    "        \n",
    "        else:\n",
    "            axis.plot(time, band_flux, label=f'{fitted_model.source.name}')\n",
    "            axis.legend()\n"
   ]
  },
  {
   "cell_type": "code",
   "execution_count": null,
   "metadata": {
    "scrolled": false
   },
   "outputs": [],
   "source": [
    "# Fit a gaussian regression\n",
    "gp = lc_colors.fit_gaussian_process(demo_data)\n",
    "\n",
    "# Fit salt2\n",
    "salt2_model = deepcopy(salt2)\n",
    "salt2_model.set(z=demo_data.meta['redshift'])\n",
    "salt2_model.set(t0=0)\n",
    "salt2_model.set(extebv=lc_colors.get_csp_ebv(demo_id))\n",
    "fit_result, fitted_model = sncosmo.fit_lc(demo_data, salt2_model, ['x0', 'x1', 'c'])\n",
    "\n",
    "# Plot modeled flux\n",
    "bands = set(demo_data['band'])\n",
    "time = np.arange(min(demo_data['time']) - 5, max(demo_data['time']) + 5)\n",
    "pred_flux, pred_unc = lc_colors.predict_light_curve(gp, bands, time)\n",
    "fig, axes = plot_regression(demo_data, time, bands, pred_flux, pred_unc)\n",
    "subplot_sncosmo_fit(time, bands, fitted_model, axes)\n"
   ]
  },
  {
   "cell_type": "markdown",
   "metadata": {},
   "source": [
    "Although the Gaussian regression performs well within the observed time range, Gaussian regressions are generally bad at extrapolating. For this reason, we choose to limit our use of the above regression when predicting flux and color values to within the first and last observed data point in each band."
   ]
  },
  {
   "cell_type": "markdown",
   "metadata": {},
   "source": [
    "## Comparing Gaussian and Modeled Colors\n",
    "\n",
    "We compare the Gaussian fit color evolution against the CMFGEN models. "
   ]
  },
  {
   "cell_type": "code",
   "execution_count": null,
   "metadata": {},
   "outputs": [],
   "source": [
    "def subplot_regression_color(data, band_combos, axes, **kwargs):\n",
    "    \"\"\"Plot regressed colors for a given collection of bandpasses\n",
    "    \n",
    "    Plots are made on an existing figure\n",
    "    \n",
    "    Args:\n",
    "        gp            (GP): A fitted gaussian process\n",
    "        t0         (float): Time of B max for the fitted target\n",
    "        band_combos (list): List of tuples with two bandpass names\n",
    "        axes       (array): Use existing axes\n",
    "        Any other style kwargs for pyplot.plot\n",
    "    \"\"\"\n",
    "\n",
    "    if len(axes.flatten()) < len(band_combos) - 1:\n",
    "        raise ValueError('Not enough axes.')\n",
    "    \n",
    "    gp = lc_colors.fit_gaussian_process(data)\n",
    "    for (band1, band2), axis in zip(band_combos, axes.flatten()):\n",
    "        try:\n",
    "            tstart, tend = lc_colors.get_color_times(data, band1, band2)\n",
    "        \n",
    "        except ValueError:\n",
    "            continue\n",
    "        \n",
    "        else:\n",
    "            time = np.arange(tstart, tend)\n",
    "            color = lc_colors.predict_color(gp, band1, band2, time)\n",
    "            axis.plot(time, color, label='Regression', **kwargs)\n",
    "            legend_without_duplicate_labels(axis)\n"
   ]
  },
  {
   "cell_type": "code",
   "execution_count": null,
   "metadata": {},
   "outputs": [],
   "source": [
    "fig_shape = (2, 4)\n",
    "fig_size = (16, 8)\n",
    "fig, axes = plt.subplots(*fig_shape, figsize=fig_size)\n",
    "subplot_regression_color(demo_data, color_combos, axes, color='blue')\n",
    "\n",
    "# Skip the unfit salt2 model\n",
    "for model in model_list[:-1]: \n",
    "    model.set(extebv=lc_colors.get_csp_ebv(demo_id))\n",
    "    subplot_model_colors(model, color_combos, axes)\n",
    "\n",
    "# Plot the fitted salt2 model\n",
    "subplot_model_colors(fitted_model, color_combos, axes)\n",
    "\n",
    "axes[-1][-1].legend()\n",
    "plt.tight_layout()\n"
   ]
  },
  {
   "cell_type": "markdown",
   "metadata": {},
   "source": [
    "## $\\chi^2$ Calculation"
   ]
  },
  {
   "cell_type": "code",
   "execution_count": null,
   "metadata": {
    "scrolled": false
   },
   "outputs": [],
   "source": [
    "t = lc_colors._chi_squared.tabulate_residuals(dr3, m14, color_combos)"
   ]
  },
  {
   "cell_type": "code",
   "execution_count": null,
   "metadata": {},
   "outputs": [],
   "source": []
  }
 ],
 "metadata": {
  "kernelspec": {
   "display_name": "Python [conda env:cmfgen] *",
   "language": "python",
   "name": "conda-env-cmfgen-py"
  },
  "language_info": {
   "codemirror_mode": {
    "name": "ipython",
    "version": 3
   },
   "file_extension": ".py",
   "mimetype": "text/x-python",
   "name": "python",
   "nbconvert_exporter": "python",
   "pygments_lexer": "ipython3",
   "version": "3.7.3"
  }
 },
 "nbformat": 4,
 "nbformat_minor": 2
}
