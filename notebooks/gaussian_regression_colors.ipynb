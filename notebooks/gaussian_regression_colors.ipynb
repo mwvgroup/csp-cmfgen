{
 "cells": [
  {
   "cell_type": "markdown",
   "metadata": {},
   "source": [
    "# Gaussian Regression Colors\n",
    "\n",
    "This notebook uses Gaussian regression to fit CSP light curves and model the evolution of observed color over time. Results are compared to the color evolution of individual models.\n"
   ]
  },
  {
   "cell_type": "code",
   "execution_count": 2,
   "metadata": {},
   "outputs": [],
   "source": [
    "import sys\n",
    "\n",
    "import numpy as np\n",
    "import sncosmo\n",
    "from matplotlib import pyplot as plt\n",
    "from sndata.csp import dr3\n",
    "\n",
    "sys.path.insert(0, '../')\n",
    "import sncosmo_models\n",
    "from gauss_regression import fit_gaussian_process, predict_light_curve\n"
   ]
  },
  {
   "cell_type": "code",
   "execution_count": 3,
   "metadata": {},
   "outputs": [],
   "source": [
    "# Register models and data with sncosmo\n",
    "sncosmo_models.register_sources(force=True)\n",
    "dr3.download_module_data()\n",
    "dr3.register_filters(force=True)\n",
    "\n",
    "# Load models for different masses\n",
    "m102 = sncosmo.Model(sncosmo.get_source('CMFGEN', version=1.02))\n",
    "m104 = sncosmo.Model(sncosmo.get_source('CMFGEN', version=1.04))\n",
    "m14 = sncosmo.Model(sncosmo.get_source('CMFGEN', version=1.4))\n",
    "m17 = sncosmo.Model(sncosmo.get_source('CMFGEN', version=1.7))\n",
    "salt2 = sncosmo.Model(sncosmo.get_source('salt2', version='2.4'))\n"
   ]
  },
  {
   "cell_type": "markdown",
   "metadata": {},
   "source": [
    "## Transmission Filters\n",
    "\n",
    "We review the CSP filter transmission curves and take note that there are multiple \"duplicate\" filters where different physical filters were used on different telescopes or a filter was broken and subsequently replaced."
   ]
  },
  {
   "cell_type": "code",
   "execution_count": null,
   "metadata": {},
   "outputs": [],
   "source": [
    "plt.figure(figsize=(10, 5))\n",
    "for band_name in dr3.band_names:\n",
    "    band = sncosmo.get_bandpass(band_name)\n",
    "    band_label = band_name.split('_')[-1]\n",
    "    plt.plot(band.wave, band.trans, label=band_label)\n",
    "\n",
    "plt.legend()  \n",
    "plt.ylim(0, 1)\n",
    "plt.tight_layout()\n"
   ]
  },
  {
   "cell_type": "code",
   "execution_count": null,
   "metadata": {},
   "outputs": [],
   "source": [
    "columns = 3\n",
    "scale_factor = 4\n",
    "\n",
    "rows = int(np.ceil(len(dr3.band_names) / columns))\n",
    "fig_shape = (rows, columns)\n",
    "fig_size = (scale_factor * rows, scale_factor * columns)\n",
    "\n",
    "fig, axes = plt.subplots(*fig_shape, figsize=fig_size)\n",
    "for band_name, axis in zip(dr3.band_names, axes.flatten()):\n",
    "    band = sncosmo.get_bandpass(band_name)\n",
    "    axis.plot(band.wave, band.trans, label=band_name)\n",
    "    axis.legend()\n",
    "    \n",
    "plt.tight_layout()\n",
    "    "
   ]
  },
  {
   "cell_type": "markdown",
   "metadata": {},
   "source": [
    "## CMFGEN Color Evolution\n",
    "\n",
    "To develop intuition, we compare of CMFGEN color evolution against Salt2.4. We recognize that the color evolution is dependent on the salt2 model parameters. However, we only concern ourselves with a fiducial model having the default parameters. We also note that the CMFGEN models do not have any parameters that impact their color evolution."
   ]
  },
  {
   "cell_type": "code",
   "execution_count": null,
   "metadata": {},
   "outputs": [],
   "source": [
    "def subplot_model_colors(model, band_combos, fig, axes, **kwargs):\n",
    "    \"\"\"Plot model colors for a given collection of bandpasses\n",
    "    \n",
    "    Plots are made on an existing figure\n",
    "    \n",
    "    Args:\n",
    "        model                  (Model): Model to calculate color with\n",
    "        band_combos (list[tuple[str]]): Band combos to calculate color for\n",
    "        fig                   (Figure): Use an existing figure\n",
    "        axes                   (array): Use existing axes\n",
    "        Any other style kwargs for pyplot.plot\n",
    "    \"\"\"\n",
    "    \n",
    "    axis_list = axes.flatten() if isinstance(axes, np.ndarray) else [axes]\n",
    "    if len(axis_list) < len(band_combos) - 1:\n",
    "        raise ValueError('Not enough axes.')\n",
    "    \n",
    "    time = np.arange(model.mintime(), model.maxtime())\n",
    "    t0 = model.source.peakphase('standard::b')\n",
    "    for (band1, band2), axis in zip(band_combos, axis_list):\n",
    "        try:\n",
    "            c = model.color(band1, band2, 'ab', time)\n",
    "            \n",
    "        except ValueError as e:\n",
    "            print(f'{model.source.name} {model.source.version}: {e}')\n",
    "            pass\n",
    "\n",
    "        else:\n",
    "            label = f'{model.source.name} {model.source.version}'\n",
    "            axis.plot(time - t0, c, label=label, **kwargs)\n",
    "            \n",
    "            y_label = f'{band1.split(\"_\")[-1]} - {band2.split(\"_\")[-1]}'\n",
    "            axis.set_ylabel(y_label)\n",
    "            axis.set_xlabel('Time')\n",
    "\n",
    "\n",
    "def plot_model_colors(models, bands):\n",
    "    \"\"\"Plot model colors for a given collection of models and bandpasses\n",
    "    \n",
    "    Args:\n",
    "        models (list[Model]): Models to calculate color with\n",
    "        bands    (list[str]): Bands to calculate color for\n",
    "    \"\"\"\n",
    "    \n",
    "    band_combos = [(bands[i], bands[i + 1])for i in range(len(bands) - 1)]\n",
    "    \n",
    "    columns = 3\n",
    "    rows = int(np.ceil(len(band_combos) / columns))\n",
    "    fig_shape = (rows, columns)\n",
    "    fig_size = (4 * rows, 4 * columns)\n",
    "    \n",
    "    fig, axes = plt.subplots(*fig_shape, figsize=fig_size)\n",
    "    for model in models:\n",
    "        subplot_model_colors(model, band_combos, fig, axes)\n",
    "        \n",
    "    handles, labels = axes.flatten()[0].get_legend_handles_labels()\n",
    "    fig.legend(handles, labels)\n",
    "    plt.tight_layout()\n",
    "    return fig, axes\n"
   ]
  },
  {
   "cell_type": "code",
   "execution_count": null,
   "metadata": {},
   "outputs": [],
   "source": [
    "# A set of fiducial band passes.\n",
    "unique_bands = (\n",
    "    'csp_dr3_u',\n",
    "    'csp_dr3_g',\n",
    "    'csp_dr3_r',\n",
    "    'csp_dr3_i',\n",
    "    'csp_dr3_B',\n",
    "    'csp_dr3_V',\n",
    "    'csp_dr3_Y',\n",
    "    'csp_dr3_H',\n",
    "    'csp_dr3_J'\n",
    ")\n",
    "\n",
    "models = [m102, m104, m14, m17]\n",
    "fig, axes = plot_model_colors(models + [salt2], unique_bands)\n"
   ]
  },
  {
   "cell_type": "markdown",
   "metadata": {},
   "source": [
    "We emphasize there are other color combinations that are not explored here but should be since different combinations may provide different color degeneracies."
   ]
  },
  {
   "cell_type": "markdown",
   "metadata": {},
   "source": [
    "# Gaussian Regression\n",
    "\n",
    "We use Gaussian regression to fit the light curves in each band and determine the color evolution as a function of time.\n"
   ]
  },
  {
   "cell_type": "code",
   "execution_count": null,
   "metadata": {
    "scrolled": false
   },
   "outputs": [],
   "source": [
    "def plot_regression(data, times, pred_flux, pred_unc, bands):\n",
    "    \"\"\"Plot regression results\n",
    "    \n",
    "    Args:\n",
    "        data            (Table): The measured photometric data\n",
    "        times     (list[float]): Modeled times from the regression\n",
    "        pred_flux (list[float]): Predicted flux from the regression\n",
    "        pred_unc  (list[float]): Flux uncertanty from the regression\n",
    "        bands       (list[str]): Bands used in the regression\n",
    "    \n",
    "    Returns:\n",
    "        The figure object\n",
    "        An array of figure axes\n",
    "    \"\"\"\n",
    "\n",
    "    columns = 2\n",
    "    rows = 5\n",
    "    fig_shape = (rows, columns)\n",
    "    fig_size = (4 * rows, 8 * columns)\n",
    "\n",
    "    fig, axes = plt.subplots(*fig_shape, figsize=fig_size)\n",
    "    iterable = zip(bands, axes.flatten(), pred_flux, pred_unc)\n",
    "    \n",
    "    for band_name, axis, f, fe in iterable:\n",
    "        data_this = data[data['band'] == band_name]\n",
    "        axis.scatter(data_this['time'], data_this['flux'], label=band_name)\n",
    "        axis.errorbar(data_this['time'], data_this['flux'], data_this['fluxerr'], linestyle='', label=None)\n",
    "        axis.plot(times, f, linestyle='--', color='black', label='Regression')\n",
    "        axis.fill_between(\n",
    "            times, \n",
    "            f - fe, \n",
    "            f + fe, \n",
    "            alpha=.3, \n",
    "            color='grey',\n",
    "            label='Regression Err'\n",
    "        )\n",
    "        axis.legend()\n",
    "\n",
    "    plt.tight_layout()\n",
    "    return fig, axes\n"
   ]
  },
  {
   "cell_type": "code",
   "execution_count": null,
   "metadata": {
    "scrolled": false
   },
   "outputs": [],
   "source": [
    "data_table = dr3.get_data_for_id('2005kc', format_sncosmo=True)\n",
    "times = np.arange(min(data_table['time']), max(data_table['time']))\n",
    "bands = set(data_table['band'])\n",
    "\n",
    "gp = fit_gaussian_process(data_table)\n",
    "pred_flux, pred_unc = predict_light_curve(gp, bands, times)\n",
    "\n",
    "_ = plot_regression(data_table, times, pred_flux, pred_unc, bands)\n"
   ]
  },
  {
   "cell_type": "markdown",
   "metadata": {},
   "source": [
    "## Comparing Gaussian and Modeled Colors\n",
    "\n",
    "We compare the gaussian fit color evolution against the CMFGEN models. In order to align the time scales of all results, we use the published `t0` (Salt2) value from CSP to shift the gaussian regressions to the correct t = 0 point."
   ]
  },
  {
   "cell_type": "code",
   "execution_count": null,
   "metadata": {},
   "outputs": [],
   "source": [
    "def get_csp_t0(obj_id):\n",
    "    \"\"\"Get the t0 value published by CSP for a given object\n",
    "    \n",
    "    Args:\n",
    "        obj_id (str): The object Id value\n",
    "        \n",
    "    Return:\n",
    "        The published time of maximum minus 53000\n",
    "    \"\"\"\n",
    "\n",
    "    params = dr3.load_table(3).to_pandas()\n",
    "    params.set_index('SN', inplace=True)\n",
    "    t0 = params.loc[obj_id]['T(Bmax)']\n",
    "    if np.isnan(t0):\n",
    "        raise ValueError(f'No published t0 for {obj_id}')\n",
    "    \n",
    "    return t0 - 53000  # Convert to CSP standard\n"
   ]
  },
  {
   "cell_type": "code",
   "execution_count": null,
   "metadata": {},
   "outputs": [],
   "source": [
    "def subplot_regression_color(times, pred_flux, bands, band_combos, fig, axes, **kwargs):\n",
    "    \"\"\"Plot model colors for a given collection of bandpasses\n",
    "    \n",
    "    Plots are made on an existing figure\n",
    "    \n",
    "    Args:\n",
    "        data            (Table): The measured photometric data\n",
    "        times     (list[float]): Modeled times from the regression\n",
    "        pred_flux (list[float]): Predicted flux from the regression\n",
    "        bands       (list[str]): Bands used in the regression\n",
    "        band_combos (list[tuple[str]]): Band combos to calculate color for\n",
    "        fig            (Figure): Use an existing figure\n",
    "        axes            (array): Use existing axes\n",
    "        Any other style kwargs for pyplot.plot\n",
    "    \"\"\"\n",
    "        \n",
    "    regression_flux = {b: f for b, f in zip(bands, pred_flux)}\n",
    "    \n",
    "    axis_list = axes.flatten() if isinstance(axes, np.ndarray) else [axes]\n",
    "    for (band1, band2), axis in zip(band_combos, axis_list):\n",
    "        if not (band1 in bands and band2 in bands):\n",
    "            continue\n",
    "        \n",
    "        f1 = regression_flux[band1]\n",
    "        f2 = regression_flux[band2]\n",
    "        color = -2.5 * (np.log10(f1) - np.log10(f2))\n",
    "        axis.plot(times, color, label=f'Regression', **kwargs)\n",
    "    \n",
    "    return fig, axes\n"
   ]
  },
  {
   "cell_type": "markdown",
   "metadata": {},
   "source": [
    "A plot for an individual light curve."
   ]
  },
  {
   "cell_type": "code",
   "execution_count": null,
   "metadata": {},
   "outputs": [],
   "source": [
    "data_table = dr3.get_data_for_id('2005kc', format_sncosmo=True)\n",
    "data_table['time'] -= get_csp_t0('2005kc')\n",
    "times = np.arange(min(data_table['time']), max(data_table['time']))\n",
    "bands = set(data_table['band'])\n",
    "\n",
    "gp = fit_gaussian_process(data_table)\n",
    "pred_flux, pred_unc = predict_light_curve(gp, bands, times)\n",
    "\n",
    "fig_shape = (2, 2)\n",
    "fig_size = (16, 8)\n",
    "fig, axes = plt.subplots(*fig_shape, figsize=fig_size)\n",
    "band_combos = [\n",
    "    ('csp_dr3_B', 'csp_dr3_V0'), \n",
    "    ('csp_dr3_u', 'csp_dr3_g'), \n",
    "    ('csp_dr3_g', 'csp_dr3_r'), \n",
    "    ('csp_dr3_r', 'csp_dr3_i')]\n",
    "\n",
    "subplot_regression_color(times, pred_flux, bands, band_combos, fig, axes, color='grey')\n",
    "\n",
    "for model in models:\n",
    "    subplot_model_colors(model, band_combos, fig, axes)\n",
    "\n",
    "axes[-1][-1].legend()\n"
   ]
  },
  {
   "cell_type": "markdown",
   "metadata": {},
   "source": [
    "A plot for an many light curves."
   ]
  },
  {
   "cell_type": "code",
   "execution_count": null,
   "metadata": {},
   "outputs": [],
   "source": [
    "def filter_func(data):\n",
    "    \"\"\"Select light curves with a publishd t0\"\"\"\n",
    "\n",
    "    try:\n",
    "        get_csp_t0(data.meta['obj_id'])\n",
    "        return True\n",
    "\n",
    "    except ValueError:\n",
    "        return False\n",
    "\n",
    "\n",
    "fig_shape = (2, 2)\n",
    "fig_size = (16, 8)\n",
    "fig, axes = plt.subplots(*fig_shape, figsize=fig_size)\n",
    "for data_table in dr3.iter_data(filter_func=filter_func, format_sncosmo=True, verbose=True):\n",
    "    data_table['time'] -= get_csp_t0(data_table.meta['obj_id'])\n",
    "    times = np.arange(min(data_table['time']), max(data_table['time']))\n",
    "    bands = set(data_table['band'])\n",
    "\n",
    "    gp = fit_gaussian_process(data_table)\n",
    "    pred_flux, pred_unc = predict_light_curve(gp, bands, times)\n",
    "    \n",
    "    subplot_regression_color(times, pred_flux, bands, band_combos, fig, axes, alpha=.4, color='grey')\n",
    "\n",
    "for model in models:\n",
    "    subplot_model_colors(model, band_combos, fig, axes)\n",
    "\n"
   ]
  },
  {
   "cell_type": "markdown",
   "metadata": {},
   "source": [
    "We note that there are clearly some bad regressions and that we will have to inspect individual light curves to address them."
   ]
  },
  {
   "cell_type": "code",
   "execution_count": null,
   "metadata": {},
   "outputs": [],
   "source": []
  }
 ],
 "metadata": {
  "kernelspec": {
   "display_name": "Python [conda env:cmfgen] *",
   "language": "python",
   "name": "conda-env-cmfgen-py"
  },
  "language_info": {
   "codemirror_mode": {
    "name": "ipython",
    "version": 3
   },
   "file_extension": ".py",
   "mimetype": "text/x-python",
   "name": "python",
   "nbconvert_exporter": "python",
   "pygments_lexer": "ipython3",
   "version": "3.7.3"
  }
 },
 "nbformat": 4,
 "nbformat_minor": 2
}
