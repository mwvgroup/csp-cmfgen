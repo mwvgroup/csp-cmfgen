{
 "cells": [
  {
   "cell_type": "markdown",
   "metadata": {},
   "source": [
    "# Gaussian Regression of Light-Curves\n",
    "\n",
    "This notebook explores the use of a Gaussian regression to fit CSP light curves. We use a regression implimentation ported from the `avocado` package by [Kyle Boone](https://github.com/kboone).\n",
    "\n",
    "#### Analysis steps considered by this notebook:\n",
    "\n",
    "1. <a href='#reading_in_data'>Reading In Data</a>: Read in and format data\n",
    "1. <a href='#gaussian_regression'>Gaussian Regression</a>: Fit observed light curves using a Gaussian regression\n",
    "1. <a href='#fit_inspection'>Fit Inspection</a>: Visually inspect regressions of each target\n",
    "1. <a href='#err_relationship'>Measured and Regressed Error</a>: Examine the relationship between error values reported by CSP and the Gaussian regression\n",
    "1. <a href='#resampling_errors'>Resampling Errors</a>: Explore the use of a resampling technique for improved error estimation.\n"
   ]
  },
  {
   "cell_type": "code",
   "execution_count": null,
   "metadata": {},
   "outputs": [],
   "source": [
    "import sys\n",
    "from copy import copy\n",
    "\n",
    "import numpy as np\n",
    "import sncosmo\n",
    "from IPython.display import clear_output\n",
    "from astropy.table import Column, hstack, vstack\n",
    "from astropy.table import Table\n",
    "from matplotlib import pyplot as plt\n",
    "from matplotlib.ticker import MultipleLocator\n",
    "from sndata.csp import dr3\n",
    "from tqdm import tqdm\n",
    "\n",
    "sys.path.insert(0, '../')\n",
    "from analysis import utils\n",
    "from analysis import lc_colors\n",
    "\n",
    "dr3.download_module_data()\n",
    "dr3.register_filters(force=True)\n"
   ]
  },
  {
   "cell_type": "markdown",
   "metadata": {},
   "source": [
    "## Reading in Data <a id='reading_in_data'></a>\n",
    "\n",
    "We begin by reading in photometric data from an arbitrarily chosen supernova. To simplify some of our later work, we use the CSP published `t0` value to shift the observed time axis. We also instantiate a SALT2 model."
   ]
  },
  {
   "cell_type": "code",
   "execution_count": null,
   "metadata": {},
   "outputs": [],
   "source": [
    "# Register filters with sncosmo\n",
    "dr3.download_module_data()\n",
    "dr3.register_filters(force=True)\n",
    "\n",
    "# Pick a CSP target to use in demo plots\n",
    "demo_id = '2005kc'\n",
    "demo_data = dr3.get_data_for_id(demo_id)\n",
    "\n",
    "# A Salt2.4 model with a Fitzpatrick 99 extinction law\n",
    "salt2 = sncosmo.Model(sncosmo.get_source('salt2', version='2.4'))\n"
   ]
  },
  {
   "cell_type": "markdown",
   "metadata": {},
   "source": [
    "# Gaussian Regression <a id='gaussian_regression'></a>\n",
    "\n",
    "We use Gaussian regression to fit the light curve in each band. These fits are then compared against a simultaneous fit performed using the Salt2 model.\n"
   ]
  },
  {
   "cell_type": "code",
   "execution_count": null,
   "metadata": {
    "scrolled": false
   },
   "outputs": [],
   "source": [
    "def plot_regression(data, time, bands, pred_flux, pred_unc):\n",
    "    \"\"\"Plot regression results in flux space\n",
    "    \n",
    "    Plots data['flux'] and data['fluxerr'] vs time in each band.\n",
    "    Plots pred_flux and pred_unc vs time in each band.\n",
    "    \n",
    "    Args:\n",
    "        data            (Table): The measured photometric data\n",
    "        pred_flux (list[float]): Predicted flux from the regression\n",
    "        pred_unc  (list[float]): Flux uncertainty from the regression\n",
    "    \n",
    "    Returns:\n",
    "        The figure object\n",
    "        An array of figure axes\n",
    "    \"\"\"\n",
    "\n",
    "    columns = 2\n",
    "    rows = 5\n",
    "    fig_shape = (rows, columns)\n",
    "    fig_size = (3 * rows, 6 * columns)\n",
    "\n",
    "    fig, axes = plt.subplots(*fig_shape, figsize=fig_size)\n",
    "    for axis in axes[rows - 1]:\n",
    "        axis.set_xlabel('Time')\n",
    "\n",
    "    for axis in axes.flatten()[::2]:\n",
    "        axis.set_ylabel('Flux')\n",
    "\n",
    "    plot_data = zip(bands, axes.flatten(), pred_flux, pred_unc)\n",
    "    for band_name, axis, f, fe in plot_data:\n",
    "        band_data = data[data['band'] == band_name]\n",
    "        axis.scatter(band_data['time'], band_data['flux'], label=band_name)\n",
    "        axis.errorbar(band_data['time'], band_data['flux'],\n",
    "                      band_data['fluxerr'], linestyle='', label=None)\n",
    "        \n",
    "        axis.plot(time, f, linestyle='--', color='black', label='Regression')\n",
    "        axis.fill_between(\n",
    "            time,\n",
    "            f - fe,\n",
    "            f + fe,\n",
    "            alpha=.3,\n",
    "            color='grey',\n",
    "            label='Regression Error'\n",
    "        )\n",
    "\n",
    "        axis.xaxis.set_minor_locator(MultipleLocator(1))\n",
    "        axis.set_xlim(min(time), max(time))\n",
    "        axis.legend()\n",
    "\n",
    "    plt.tight_layout()\n",
    "    return fig, axes\n",
    "\n",
    "\n",
    "def subplot_sncosmo_flux(time, bands, fitted_model, axes):\n",
    "    \"\"\"Plot the predicted flux of an sncosmo in each band vs time\n",
    "    \n",
    "    Args:\n",
    "        fitted_model (Model): An SNCosmo model fitted to the data\n",
    "        axes         (array): Use existing axes\n",
    "    \"\"\"\n",
    "\n",
    "    for band, axis in zip(bands, axes.flatten()):\n",
    "        try:\n",
    "            band_flux = fitted_model.bandflux(band, time)\n",
    "\n",
    "        except ValueError as e:\n",
    "            print(\n",
    "                f'{fitted_model.source.name} {fitted_model.source.version}: {e}')\n",
    "            pass\n",
    "\n",
    "        else:\n",
    "            axis.plot(time, band_flux, label=f'{fitted_model.source.name}')\n",
    "            axis.legend()\n",
    "\n",
    "\n",
    "def subplot_sncosmo_mag(time, bands, fitted_model, axes):\n",
    "    \"\"\"Plot the predicted magnitude of an sncosmo in each band vs time\n",
    "    \n",
    "    Uses a zero point of 25.\n",
    "    \n",
    "    Args:\n",
    "        fitted_model (Model): An SNCosmo model fitted to the data\n",
    "        axes         (array): Use existing axes\n",
    "    \"\"\"\n",
    "\n",
    "    for band, axis in zip(bands, axes.flatten()):\n",
    "        try:\n",
    "            band_flux = -2.5 * np.log10(fitted_model.bandflux(band, time)) + 25\n",
    "\n",
    "        except ValueError as e:\n",
    "            print(\n",
    "                f'{fitted_model.source.name} {fitted_model.source.version}: {e}')\n",
    "            pass\n",
    "\n",
    "        else:\n",
    "            axis.plot(time, band_flux, label=f'{fitted_model.source.name}')\n",
    "            axis.legend()\n"
   ]
  },
  {
   "cell_type": "markdown",
   "metadata": {},
   "source": [
    "First, we consider the fit in flux space."
   ]
  },
  {
   "cell_type": "code",
   "execution_count": null,
   "metadata": {
    "scrolled": false
   },
   "outputs": [],
   "source": [
    "# Fit a gaussian regression\n",
    "gp = lc_colors.fit_gaussian_process(demo_data)\n",
    "bands = set(demo_data['band'])\n",
    "time = np.arange(min(demo_data['time']) - 1, max(demo_data['time']) + 1)\n",
    "gp_flux, gp_unc = lc_colors.predict_light_curve(gp, bands, time)\n",
    "\n",
    "# Fit salt2\n",
    "salt2.set(z=demo_data.meta['z'])\n",
    "salt2.set(t0=utils.get_csp_t0(demo_id))\n",
    "fit_result, fitted_model = sncosmo.fit_lc(demo_data, salt2, ['x0', 'x1', 'c'])\n",
    "\n",
    "# Plot modeled flux\n",
    "fig, axes = plot_regression(demo_data, time, bands, gp_flux, gp_unc)\n",
    "subplot_sncosmo_flux(time, bands, fitted_model, axes)\n"
   ]
  },
  {
   "cell_type": "markdown",
   "metadata": {},
   "source": [
    "Next we consider the fit in terms of magnitudes."
   ]
  },
  {
   "cell_type": "code",
   "execution_count": null,
   "metadata": {
    "scrolled": false
   },
   "outputs": [],
   "source": [
    "magnitude_data = demo_data['time', 'flux', 'fluxerr', 'band']\n",
    "magnitude_data['flux'] = -2.5 * np.log10(magnitude_data['flux']) + 25\n",
    "gp_magnitude = -2.5 * np.log10(gp_flux) + 25\n",
    "gp_magnitude_err = gp_unc * (2.5 / np.log(10)) / gp_flux\n",
    "fig, axes = plot_regression(\n",
    "    magnitude_data, time, bands, gp_magnitude, gp_magnitude_err)\n",
    "subplot_sncosmo_mag(time, bands, fitted_model, axes)\n",
    "\n",
    "for axis in axes.flatten()[::2]:\n",
    "    axis.set_ylabel('Magnitude')\n"
   ]
  },
  {
   "cell_type": "markdown",
   "metadata": {},
   "source": [
    "Although the Gaussian regression performs well within the observed time range, Gaussian regressions are generally bad at extrapolating. For this reason, we choose to limit our use of the above regression when predicting flux values to within the first and last observed data point in each band."
   ]
  },
  {
   "cell_type": "markdown",
   "metadata": {},
   "source": [
    "## Fit Inspection <a id='fit_inspection'></a>\n",
    "\n",
    "We iterate over each individual target and look at the fit results."
   ]
  },
  {
   "cell_type": "code",
   "execution_count": null,
   "metadata": {},
   "outputs": [],
   "source": [
    "table_iter = dr3.iter_data()\n"
   ]
  },
  {
   "cell_type": "code",
   "execution_count": null,
   "metadata": {},
   "outputs": [],
   "source": [
    "if False:\n",
    "    for data_table in table_iter:\n",
    "        gp = lc_colors.fit_gaussian_process(data_table)\n",
    "        bands = set(data_table['band'])\n",
    "        time = np.arange(min(data_table['time']) - 1, max(data_table['time']) + 1)\n",
    "        gp_flux, gp_unc = lc_colors.predict_light_curve(gp, bands, time)\n",
    "\n",
    "        fig, axes = plot_regression(data_table, time, bands, gp_flux, gp_unc)\n",
    "        plt.show()\n",
    "        input()\n",
    "        clear_output()\n"
   ]
  },
  {
   "cell_type": "markdown",
   "metadata": {},
   "source": [
    "## Measured and Regressed Errors <a id='err_relationship'></a>\n",
    "\n",
    "We begin by comparing error values published by CSP against those returned by our implementation of a Gaussian regression. We do this for all SNe included in the CSP DR3 data release.\n",
    "\n"
   ]
  },
  {
   "cell_type": "code",
   "execution_count": null,
   "metadata": {},
   "outputs": [],
   "source": [
    "def create_regression_table(data_table):\n",
    "    \"\"\"Fit photometric observations with a gaussian regression\n",
    "    \n",
    "    This function is a wrapper combining the ``fit_gaussian_process``\n",
    "    and ``predict_light_curve`` functions from the ``lc_colors`` module.\n",
    "\n",
    "    Args:\n",
    "        data (Table): Data table from sndata (format_sncosmo=True)\n",
    "\n",
    "    Returns:\n",
    "        An astropy table with measured data and regression results\n",
    "    \"\"\"\n",
    "    \n",
    "    # Regress light curve and return fitted flux\n",
    "    bands = set(data_table['band'])\n",
    "    times = [data_table[data_table['band'] == band]['time'] for band in bands]\n",
    "    gp = lc_colors.fit_gaussian_process(data_table)\n",
    "    flux, flux_err = lc_colors.predict_light_curve(gp, bands, times)\n",
    "\n",
    "    pred_tables = []\n",
    "    for b, t, f, fe in zip(bands, times, flux, flux_err):\n",
    "        table_this = Table([t, f, fe], names=['time', 'reg_flux', 'reg_fluxerr'])\n",
    "        table_this['band'] = Column(b, dtype=object, length=len(table_this))\n",
    "        pred_tables.append(table_this)\n",
    " \n",
    "    # Use hstack instead of join since there are duplicate band / time combos\n",
    "    data_table = copy(data_table)\n",
    "    data_table.sort(['band', 'time'])\n",
    "    prediction = vstack(pred_tables)\n",
    "    prediction.sort(['band', 'time'])\n",
    "    prediction.remove_columns(['band', 'time'])\n",
    "    out_table = hstack([data_table, prediction])\n",
    " \n",
    "    out_table['obj_id'] = data_table.meta['obj_id']\n",
    "    out_table['residuals'] = out_table['flux'] - out_table['reg_flux']\n",
    "    return out_table\n",
    "\n",
    "\n",
    "def plot_reg_errors(flux, flux_err, reg_err):\n",
    "    \"\"\"Plot regressed vs published error values \n",
    "    \n",
    "    Args:\n",
    "        reg_results (Table): A table from ``create_regression_table``\n",
    "    \"\"\"\n",
    "\n",
    "    fig, axes = plt.subplots(1, 3, figsize=(15, 5))\n",
    "    \n",
    "    plot_combos = (\n",
    "        (flux, flux_err),\n",
    "        (flux, reg_err),\n",
    "        (flux_err, reg_err)\n",
    "    )\n",
    "    \n",
    "    for (x, y), axis in zip(plot_combos, axes):\n",
    "        axis.scatter(x, y, label=None)\n",
    "        \n",
    "        fit_params = np.polyfit(x, y, 1)\n",
    "        fit_func = np.poly1d(fit_params)\n",
    "        axis.plot(\n",
    "            x, fit_func(x), \n",
    "            label=f'{fit_params[0]:0.2}x + {fit_params[1]:0.2}',\n",
    "            color='black'\n",
    "        )\n",
    "\n",
    "        axis.set_xlim(min(x), max(x))\n",
    "        axis.set_ylim(min(y), max(y))\n",
    "        axis.legend()\n",
    "\n",
    "    axes[0].set_xlabel(f'Published Flux')\n",
    "    axes[0].set_ylabel(f'Published Error')\n",
    "    axes[1].set_xlabel(f'Published Flux')\n",
    "    axes[1].set_ylabel(f'Regression Error')\n",
    "    axes[2].set_xlabel(f'Published Error')\n",
    "    axes[2].set_ylabel(f'Regression Error')\n",
    "    \n",
    "    axes[2].plot([-1, 1], [-1, 1], color='black', linestyle='--')\n",
    "    \n",
    "    plt.tight_layout()\n",
    "    plt.show()\n",
    "\n"
   ]
  },
  {
   "cell_type": "code",
   "execution_count": null,
   "metadata": {},
   "outputs": [],
   "source": [
    "all_targets = vstack(\n",
    "    [create_regression_table(data_table) for data_table in dr3.iter_data(verbose=True)],\n",
    "    metadata_conflicts='silent'\n",
    ")\n"
   ]
  },
  {
   "cell_type": "code",
   "execution_count": null,
   "metadata": {},
   "outputs": [],
   "source": [
    "plot_reg_errors(all_targets['flux'], all_targets['fluxerr'], all_targets['reg_fluxerr'])\n"
   ]
  },
  {
   "cell_type": "markdown",
   "metadata": {},
   "source": [
    "We note that the regression errors are about 60% the size of the published errors and are always smaller. A simple way to account for this is to divide the regression error by a constant (.6). A more complicate approach is to apply a type of sampling to achieve more realistic error values from the regression."
   ]
  },
  {
   "cell_type": "markdown",
   "metadata": {},
   "source": [
    "## Resampling Errors <a id='resampling_errors'></a>\n",
    "\n",
    "We explore the usage of resampling techniques and their effects on the regression error values. The resampling algorithm starts by performing a Gaussian regression on a given target and calculating the residuals. The residuals are randomly added to the original measured flux. The process is then repeated over several iterations before the standard deviation is determined for each predicted flux value.\n",
    "\n",
    "The first step of our algorithm is already completed above. Next we define functions to implement the resampling part of the algorithm. We do this twice and consider the result when we reshuffle the residuals both across and within each bandpass.\n"
   ]
  },
  {
   "cell_type": "code",
   "execution_count": null,
   "metadata": {},
   "outputs": [],
   "source": [
    "def shuffle_residuals(reg_results, respect_bands=True):\n",
    "    \"\"\"Return an array of residuals that have been suffled\n",
    "    \n",
    "    By default residuals are shuffled within each bandpass.\n",
    "    \n",
    "    Args:\n",
    "        reg_results  (Table): A table from ``create_regression_table``\n",
    "        respect_bands (bool): Only reshuffle residuals in their respective bands\n",
    "    \"\"\"\n",
    "\n",
    "    if not respect_bands:\n",
    "        return np.random.permutation(reg_results['residuals'])\n",
    "\n",
    "    shuffled_resids = np.empty(len(reg_results))\n",
    "    for band in set(reg_results['band']):\n",
    "        indices = reg_results['band'] == band\n",
    "        band_resids = reg_results['residuals'][indices]\n",
    "        shuffled_resids[indices] = np.random.permutation(band_resids)\n",
    "\n",
    "    return shuffled_resids\n",
    "\n",
    "\n",
    "def resample_regression(reg_results, respect_bands, num_iters):\n",
    "    \"\"\"Iteritively perform regressions while shiffling residuals\n",
    "    \n",
    "    Args:\n",
    "        reg_results  (Table): An initial regression from ``create_regression_table``\n",
    "        respect_bands (bool): Only reshuffle residuals in their respective bands\n",
    "        num_iters      (int): The number of iterations to perform\n",
    "        \n",
    "    Returns:\n",
    "        An array of the flux values predicted at each iteration\n",
    "        An array of standard deviations in the flux values at each iteration\n",
    "    \"\"\"\n",
    "\n",
    "    regressed_flux = []\n",
    "    std_dev = []\n",
    "    for _ in tqdm(range(num_iters)):\n",
    "        # Create a new table with the measured flux values + residuals\n",
    "        shuffled_resids = shuffle_residuals(reg_results, respect_bands)\n",
    "        new_table = reg_results['time', 'band']\n",
    "        new_table['flux'] = reg_results['flux'] + shuffled_resids\n",
    "        new_table['fluxerr'] = reg_results['fluxerr'] + shuffled_resids\n",
    "\n",
    "        # Calculate the standard deviation in regressed flux at each iteration\n",
    "        new_regression = create_regression_table(new_table)\n",
    "        regressed_flux.append(list(new_regression['reg_flux']))\n",
    "        std_dev.append(np.std(regressed_flux, axis=0))\n",
    "\n",
    "    return np.array(regressed_flux), np.array(std_dev).T\n"
   ]
  },
  {
   "cell_type": "code",
   "execution_count": null,
   "metadata": {},
   "outputs": [],
   "source": [
    "# Perform an initial regression\n",
    "regression_data = create_regression_table(demo_data)\n",
    "\n",
    "# Run resampling\n",
    "print('Resampling across bands:')\n",
    "resampled_flux, std_deviation = resample_regression(regression_data, False, 500)\n",
    "print('Resampling within bands:')\n",
    "resampled_flux_band, std_deviation_band = resample_regression(regression_data, True, 500)\n"
   ]
  },
  {
   "cell_type": "markdown",
   "metadata": {},
   "source": [
    "It is worth checking how the standard deviation converges with the number of iterations."
   ]
  },
  {
   "cell_type": "code",
   "execution_count": null,
   "metadata": {},
   "outputs": [],
   "source": [
    "def plot_resample_convergance(reg_results, std_dev):\n",
    "    \"\"\"Plot the standard deviation per band per iteration\n",
    "    \n",
    "    Args:\n",
    "        reg_results (Table): An initial regression from ``create_regression_table``\n",
    "        std_dev     (array): Standard deviations per iteration per data point\n",
    "        \n",
    "    Returns:\n",
    "        A matplotlib figure\n",
    "        An array of matplotlib axes\n",
    "    \"\"\"\n",
    "\n",
    "    # Auto determine figure size\n",
    "    bands = set(reg_results['band'])\n",
    "    columns = 2\n",
    "    rows = int(np.ceil(len(bands) / columns))\n",
    "    fig, axes = plt.subplots(rows, columns, figsize=(4 * rows, 8 * columns))\n",
    "\n",
    "    # Plot results per band\n",
    "    for band, axis in zip(bands, axes.flatten()):\n",
    "        axis.set_title(band)\n",
    "        band_indices = np.where(reg_results['band'] == band)[0]\n",
    "        for i in band_indices:\n",
    "            axis.plot(std_dev[i])\n",
    "            axis.set_xlim(0, len(std_dev[i]))\n",
    "\n",
    "    axes[-1, 0].set_xlabel('Number of iterations', fontsize=14)\n",
    "    axes[-1, 1].set_xlabel('Number of iterations', fontsize=14)\n",
    "    for axis in axes[:, 0]:\n",
    "        axis.set_ylabel('Standard Deviattion', fontsize=14)\n",
    "\n",
    "    plt.tight_layout()\n",
    "    return fig, axes\n"
   ]
  },
  {
   "cell_type": "code",
   "execution_count": null,
   "metadata": {},
   "outputs": [],
   "source": [
    "fig, axes = plot_resample_convergance(regression_data, std_deviation_band)\n",
    "fig.suptitle('Resampled Within Bands', fontsize=24)\n",
    "plt.subplots_adjust(top=.9)\n"
   ]
  },
  {
   "cell_type": "code",
   "execution_count": null,
   "metadata": {},
   "outputs": [],
   "source": [
    "fig, axes = plot_resample_convergance(regression_data, std_deviation)\n",
    "fig.suptitle('Resampled Across Bands', fontsize=24)\n",
    "plt.subplots_adjust(top=.9)\n"
   ]
  },
  {
   "cell_type": "markdown",
   "metadata": {},
   "source": [
    "We see from the above that for the chosen target the standard deviation converges fairly quickly. The standard deviation takes slightly longer to converge when resampling across bands, but that is to be expected. To characterize the converged standard deviation, we take the average over the final 100 iterations. We then compare that average against the published and single regression error values."
   ]
  },
  {
   "cell_type": "code",
   "execution_count": null,
   "metadata": {},
   "outputs": [],
   "source": [
    "def plot_resampled_errors(reg_results, std_dev):\n",
    "    \"\"\"Plot resampled error vs published and single regression errors\n",
    "    \n",
    "    Args:\n",
    "        reg_results (Table): An initial regression from ``create_regression_table``\n",
    "        std_dev     (array): Standard deviations per iteration per data point\n",
    "        \n",
    "    Returns:\n",
    "        A matplotlib figure\n",
    "        An array of matplotlib axes\n",
    "    \"\"\"\n",
    "\n",
    "    average_std = np.average(std_dev[:, -100:], axis=1)\n",
    "    plot_combos = (\n",
    "        (reg_results['fluxerr'], reg_results['reg_fluxerr']),\n",
    "        (reg_results['fluxerr'], average_std),\n",
    "        (reg_results['reg_fluxerr'], average_std)\n",
    "    )\n",
    "\n",
    "    fig, axes = plt.subplots(1, 3, figsize=(18, 6))\n",
    "    for (x, y), axis in zip(plot_combos, axes):\n",
    "        for band in set(reg_results['band']):\n",
    "            indices = np.where(reg_results['band'] == band)[0]\n",
    "            axis.scatter(x[indices], y[indices], label=band.split('_')[-1])\n",
    "\n",
    "        axis.plot([-1, 1], [-1, 1], label=None, linestyle='--', color='black')\n",
    "        axis.set_xlim(0, max(max(x), max(y)))\n",
    "        axis.set_ylim(0, max(max(x), max(y)))\n",
    "        axis.legend()\n",
    "\n",
    "    axes[0].set_xlabel(f'Published Error')\n",
    "    axes[0].set_ylabel(f'Single Regression Error')\n",
    "    axes[1].set_xlabel(f'Published Error')\n",
    "    axes[1].set_ylabel(f'Resampled Error')\n",
    "    axes[2].set_xlabel(f'Single Regression Error')\n",
    "    axes[2].set_ylabel(f'Resampled Error')\n",
    "\n",
    "    return fig, axes\n"
   ]
  },
  {
   "cell_type": "code",
   "execution_count": null,
   "metadata": {},
   "outputs": [],
   "source": [
    "fig, axes = plot_resampled_errors(regression_data, std_deviation_band)\n",
    "fig.suptitle('Resampled Within Bands', fontsize=24)\n",
    "plt.subplots_adjust(top=.9)\n",
    "plt.show()\n"
   ]
  },
  {
   "cell_type": "code",
   "execution_count": null,
   "metadata": {},
   "outputs": [],
   "source": [
    "fig, axes = plot_resampled_errors(regression_data, std_deviation)\n",
    "fig.suptitle('Resampled Across Bands', fontsize=24)\n",
    "plt.subplots_adjust(top=.9)\n"
   ]
  },
  {
   "cell_type": "code",
   "execution_count": null,
   "metadata": {},
   "outputs": [],
   "source": []
  }
 ],
 "metadata": {
  "kernelspec": {
   "display_name": "Python [conda env:cmfgen] *",
   "language": "python",
   "name": "conda-env-cmfgen-py"
  },
  "language_info": {
   "codemirror_mode": {
    "name": "ipython",
    "version": 3
   },
   "file_extension": ".py",
   "mimetype": "text/x-python",
   "name": "python",
   "nbconvert_exporter": "python",
   "pygments_lexer": "ipython3",
   "version": "3.7.0"
  }
 },
 "nbformat": 4,
 "nbformat_minor": 2
}
