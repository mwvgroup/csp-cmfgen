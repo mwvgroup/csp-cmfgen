{
 "cells": [
  {
   "cell_type": "markdown",
   "metadata": {},
   "source": [
    "# Gaussian Regression of Light-Curves\n",
    "\n",
    "This notebook explores the use of a Gaussian regression to fit CSP light curves. We use a modified version of the regression implimentation from the `avocado` package by [Kyle Boone](https://github.com/kboone).\n",
    "\n",
    "#### Analysis steps considered by this notebook:\n",
    "\n",
    "1. <a href='#gaussian_regression'>Gaussian Regression</a>: Fit observed light curves using a Gaussian regression\n",
    "1. <a href='#err_relationship'>Measured and Regressed Error</a>: Examine the relationship between error values reported by CSP and the Gaussian regression\n"
   ]
  },
  {
   "cell_type": "code",
   "execution_count": null,
   "metadata": {
    "pycharm": {
     "is_executing": false
    }
   },
   "outputs": [],
   "source": [
    "from warnings import warn\n",
    "\n",
    "import numpy as np\n",
    "import sncosmo\n",
    "import sys\n",
    "from astropy.table import Column, hstack, vstack\n",
    "from astropy.table import Table\n",
    "from copy import copy\n",
    "from matplotlib import pyplot as plt\n",
    "from matplotlib.ticker import MultipleLocator\n",
    "from sndata.csp import DR3\n",
    "\n",
    "sys.path.insert(0, '../')\n",
    "from analysis import utils\n",
    "from analysis import regression\n",
    "\n",
    "dr3 = DR3()\n",
    "dr3.download_module_data()\n",
    "dr3.register_filters(force=True)\n"
   ]
  },
  {
   "cell_type": "markdown",
   "metadata": {},
   "source": [
    "# Gaussian Regression <a id='gaussian_regression'></a>\n",
    "\n",
    "We use Gaussian regression to fit the light curve in each band. These fits are then compared against a simultaneous fit performed using the Hsiao model.\n"
   ]
  },
  {
   "cell_type": "code",
   "execution_count": null,
   "metadata": {
    "pycharm": {
     "is_executing": false
    },
    "scrolled": false
   },
   "outputs": [],
   "source": [
    "def plot_regression(data, time, bands, pred_flux, pred_unc):\n",
    "    \"\"\"Plot regression results in flux space\n",
    "    \n",
    "    Plots data['flux'] and data['fluxerr'] vs time in each band.\n",
    "    Plots pred_flux and pred_unc vs time in each band.\n",
    "    \n",
    "    Args:\n",
    "        data            (Table): The measured photometric data\n",
    "        pred_flux (list[float]): Predicted flux from the regression\n",
    "        pred_unc  (list[float]): Flux uncertainty from the regression\n",
    "    \n",
    "    Returns:\n",
    "        The figure object\n",
    "        An array of figure axes\n",
    "    \"\"\"\n",
    "\n",
    "    columns = 2\n",
    "    rows = 5\n",
    "    fig_shape = (rows, columns)\n",
    "    fig_size = (3 * rows, 6 * columns)\n",
    "\n",
    "    fig, axes = plt.subplots(*fig_shape, figsize=fig_size, sharey=True)\n",
    "    for axis in axes[rows - 1]:\n",
    "        axis.set_xlabel('Time')\n",
    "\n",
    "    for axis in axes.flatten()[::2]:\n",
    "        axis.set_ylabel('Flux')\n",
    "\n",
    "    plot_data = zip(bands, axes.flatten(), pred_flux, pred_unc)\n",
    "    for band_name, axis, f, fe in plot_data:\n",
    "        band_data = data[data['band'] == band_name]\n",
    "        axis.scatter(band_data['time'], band_data['flux'], label=band_name)\n",
    "        axis.errorbar(band_data['time'], band_data['flux'],\n",
    "                      band_data['fluxerr'], linestyle='', label=None)\n",
    "\n",
    "        axis.plot(time, f, linestyle='--', color='black', label='Regression')\n",
    "        axis.fill_between(\n",
    "            time,\n",
    "            f - fe,\n",
    "            f + fe,\n",
    "            alpha=.3,\n",
    "            color='grey',\n",
    "            label='Regression Error'\n",
    "        )\n",
    "\n",
    "        axis.xaxis.set_minor_locator(MultipleLocator(1))\n",
    "        axis.set_xlim(min(time), max(time))\n",
    "        axis.legend()\n",
    "\n",
    "    plt.tight_layout()\n",
    "    return fig, axes\n",
    "\n",
    "\n",
    "def subplot_sncosmo_flux(time, bands, fitted_model, axes):\n",
    "    \"\"\"Plot the predicted flux of an sncosmo in each band vs time\n",
    "    \n",
    "    Args:\n",
    "        fitted_model (Model): An SNCosmo model fitted to the data\n",
    "        axes         (array): Use existing axes\n",
    "    \"\"\"\n",
    "\n",
    "    for band, axis in zip(bands, axes.flatten()):\n",
    "        try:\n",
    "            band_flux = fitted_model.bandflux(band, time)\n",
    "\n",
    "        except ValueError as e:\n",
    "            print(\n",
    "                f'{fitted_model.source.name} {fitted_model.source.version}: {e}')\n",
    "            pass\n",
    "\n",
    "        else:\n",
    "            axis.plot(time, band_flux, label=f'{fitted_model.source.name}')\n",
    "            axis.legend()\n",
    "\n",
    "\n",
    "def subplot_sncosmo_mag(time, bands, fitted_model, axes):\n",
    "    \"\"\"Plot the predicted magnitude of an sncosmo in each band vs time\n",
    "    \n",
    "    Uses a zero point of 25.\n",
    "    \n",
    "    Args:\n",
    "        fitted_model (Model): An SNCosmo model fitted to the data\n",
    "        axes         (array): Use existing axes\n",
    "    \"\"\"\n",
    "\n",
    "    for band, axis in zip(bands, axes.flatten()):\n",
    "        try:\n",
    "            band_flux = -2.5 * np.log10(fitted_model.bandflux(band, time)) + 25\n",
    "\n",
    "        except ValueError as e:\n",
    "            print(f'{fitted_model.source.name} {fitted_model.source.version}: {e}')\n",
    "            pass\n",
    "\n",
    "        else:\n",
    "            axis.plot(time, band_flux, label=f'{fitted_model.source.name}')\n",
    "            axis.legend()\n"
   ]
  },
  {
   "cell_type": "markdown",
   "metadata": {},
   "source": [
    "First, we consider the fit in flux space."
   ]
  },
  {
   "cell_type": "code",
   "execution_count": null,
   "metadata": {
    "pycharm": {
     "is_executing": false
    },
    "scrolled": false
   },
   "outputs": [],
   "source": [
    "def plot_dr3_object_flux(obj_id):\n",
    "    \"\"\"Plot the regression and Hsiao model fit for an object in flux space\n",
    "    \n",
    "    Args:\n",
    "        obj_id (str): The Id of the object to plot\n",
    "        \n",
    "    Returns:\n",
    "        The figure object\n",
    "        An array of figure axes\n",
    "    \"\"\"\n",
    "\n",
    "    data = dr3.get_data_for_id(obj_id)\n",
    "\n",
    "    # Fit hsiao\n",
    "    sncosmo_model = sncosmo.Model('hsiao')\n",
    "    sncosmo_model.set(z=data.meta['z'])\n",
    "    sncosmo_model.set(t0=utils.get_csp_t0(obj_id))\n",
    "    fit_result, fitted_model = sncosmo.fit_lc(data, sncosmo_model, ['amplitude'])\n",
    "\n",
    "    # Fit a gaussian regression\n",
    "    gp = regression.fit_gaussian_process(data)\n",
    "    bands = set(data['band'])\n",
    "    time = np.arange(min(data['time']) - 1, max(data['time']) + 1)\n",
    "    gp_flux, gp_unc = regression.predict_light_curve(gp, bands, time)\n",
    "\n",
    "    # Plot modeled flux\n",
    "    fig, axes = plot_regression(data, time, bands, gp_flux, gp_unc)\n",
    "    subplot_sncosmo_flux(time, bands, fitted_model, axes)\n",
    "    axes[0, 0].set_ylim(0)\n",
    "    fig.suptitle(obj_id, fontsize=30, y=1.05)\n",
    "\n",
    "    return fig, axes\n"
   ]
  },
  {
   "cell_type": "code",
   "execution_count": null,
   "metadata": {
    "pycharm": {
     "is_executing": false
    }
   },
   "outputs": [],
   "source": [
    "_ = plot_dr3_object_flux('2004ef')\n",
    "_ = plot_dr3_object_flux('2008bc')\n"
   ]
  },
  {
   "cell_type": "markdown",
   "metadata": {},
   "source": [
    "Next we consider the fit in terms of magnitudes."
   ]
  },
  {
   "cell_type": "code",
   "execution_count": null,
   "metadata": {
    "pycharm": {
     "is_executing": false
    },
    "scrolled": false
   },
   "outputs": [],
   "source": [
    "def plot_dr3_object_mag(obj_id):\n",
    "    \"\"\"Plot the regression and Hsiao model fit for an object in magnitude space\n",
    "    \n",
    "    Args:\n",
    "        obj_id (str): The Id of the object to plot\n",
    "        \n",
    "    Returns:\n",
    "        The figure object\n",
    "        An array of figure axes\n",
    "    \"\"\"\n",
    "\n",
    "    data = dr3.get_data_for_id(obj_id)\n",
    "\n",
    "    # Fit hsiao\n",
    "    sncosmo_model = sncosmo.Model('hsiao')\n",
    "    sncosmo_model.set(z=data.meta['z'])\n",
    "    sncosmo_model.set(t0=utils.get_csp_t0(obj_id))\n",
    "    fit_result, fitted_model = sncosmo.fit_lc(data, sncosmo_model, ['amplitude'])\n",
    "\n",
    "    data['flux'] = -2.5 * np.log10(data['flux']) + 25\n",
    "    data['fluxerr'] = (-2.5 * data['fluxerr']) / (data['flux'] * np.log(10))\n",
    "\n",
    "    # Fit a gaussian regression\n",
    "    gp = regression.fit_gaussian_process(data)\n",
    "    bands = set(data['band'])\n",
    "    time = np.arange(min(data['time']) - 1, max(data['time']) + 1)\n",
    "    gp_flux, gp_unc = regression.predict_light_curve(gp, bands, time)\n",
    "\n",
    "    # Plot fitted magnitudes\n",
    "    fig, axes = plot_regression(data, time, bands, gp_flux, gp_unc)\n",
    "    subplot_sncosmo_mag(time, bands, fitted_model, axes)\n",
    "    for axis in axes.flatten()[::2]:\n",
    "        axis.set_ylabel('Magnitude')\n",
    "\n",
    "    fig.suptitle(obj_id, fontsize=30, y=1.05)\n",
    "\n",
    "    return fig, axes\n"
   ]
  },
  {
   "cell_type": "code",
   "execution_count": null,
   "metadata": {
    "pycharm": {
     "is_executing": false
    }
   },
   "outputs": [],
   "source": [
    "_ = plot_dr3_object_mag('2004ef')\n",
    "_ = plot_dr3_object_mag('2008bc')\n"
   ]
  },
  {
   "cell_type": "markdown",
   "metadata": {},
   "source": [
    "Although the Gaussian regression performs well within the observed time range, Gaussian regressions are generally bad at extrapolating. For this reason, we choose to limit our use of the above regression when predicting flux values to within the first and last observed data point in each band. \n",
    "\n",
    "The regression also tends to drift towards zero at late times when the photometric sampling is low. This results in a non-physical jump in the estimated magnitude."
   ]
  },
  {
   "cell_type": "markdown",
   "metadata": {},
   "source": [
    "## Measured and Regressed Errors <a id='err_relationship'></a>\n",
    "\n",
    "We begin by comparing error values published by CSP against those returned by our implementation of a Gaussian regression. We do this for all SNe included in the CSP DR3 data release.\n",
    "\n"
   ]
  },
  {
   "cell_type": "code",
   "execution_count": null,
   "metadata": {
    "pycharm": {
     "is_executing": false
    }
   },
   "outputs": [],
   "source": [
    "def create_regression_table(data_table):\n",
    "    \"\"\"Fit photometric observations with a gaussian regression\n",
    "    \n",
    "    This function is a wrapper combining the ``fit_gaussian_process``\n",
    "    and ``predict_light_curve`` functions from the ``regression`` module.\n",
    "\n",
    "    Args:\n",
    "        data (Table): Data table from sndata (format_sncosmo=True)\n",
    "\n",
    "    Returns:\n",
    "        An astropy table with measured data and regression results\n",
    "    \"\"\"\n",
    "\n",
    "    # Regress light curve and return fitted flux\n",
    "    bands = set(data_table['band'])\n",
    "    times = [data_table[data_table['band'] == band]['time'] for band in bands]\n",
    "    gp = regression.fit_gaussian_process(data_table)\n",
    "    flux, flux_err = regression.predict_light_curve(gp, bands, times)\n",
    "\n",
    "    pred_tables = []\n",
    "    for b, t, f, fe in zip(bands, times, flux, flux_err):\n",
    "        table_this = Table([t, f, fe], names=['time', 'reg_flux', 'reg_fluxerr'])\n",
    "        table_this['band'] = Column(b, dtype=object, length=len(table_this))\n",
    "        pred_tables.append(table_this)\n",
    "\n",
    "    # Use hstack instead of join since there are duplicate band / time combos\n",
    "    data_table = copy(data_table)\n",
    "    data_table.sort(['band', 'time'])\n",
    "    prediction = vstack(pred_tables)\n",
    "    prediction.sort(['band', 'time'])\n",
    "    prediction.remove_columns(['band', 'time'])\n",
    "    out_table = hstack([data_table, prediction])\n",
    "\n",
    "    out_table['obj_id'] = data_table.meta['obj_id']\n",
    "    out_table['residuals'] = out_table['flux'] - out_table['reg_flux']\n",
    "    return out_table\n",
    "\n",
    "\n",
    "def plot_reg_errors(flux, flux_err, reg_err):\n",
    "    \"\"\"Plot regressed vs published error values \n",
    "    \n",
    "    Args:\n",
    "        reg_results (Table): A table from ``create_regression_table``\n",
    "        \n",
    "    Returns:\n",
    "        The figure object\n",
    "        An array of figure axes\n",
    "    \"\"\"\n",
    "\n",
    "    fig, axes = plt.subplots(1, 3, figsize=(15, 5))\n",
    "\n",
    "    plot_combos = (\n",
    "        (flux, flux_err),\n",
    "        (flux, reg_err),\n",
    "        (flux_err, reg_err)\n",
    "    )\n",
    "\n",
    "    for (x, y), axis in zip(plot_combos, axes):\n",
    "        axis.scatter(x, y, label=None)\n",
    "\n",
    "        fit_params = np.polyfit(x, y, 1)\n",
    "        fit_func = np.poly1d(fit_params)\n",
    "        axis.plot(\n",
    "            x, fit_func(x),\n",
    "            label=f'{fit_params[0]:0.2}x + {fit_params[1]:0.2}',\n",
    "            color='black'\n",
    "        )\n",
    "\n",
    "        axis.set_xlim(min(x), max(x))\n",
    "        axis.set_ylim(min(y), max(y))\n",
    "        axis.legend()\n",
    "\n",
    "    axes[0].set_xlabel(f'Published Flux')\n",
    "    axes[0].set_ylabel(f'Published Error')\n",
    "    axes[1].set_xlabel(f'Published Flux')\n",
    "    axes[1].set_ylabel(f'Regression Error')\n",
    "    axes[2].set_xlabel(f'Published Error')\n",
    "    axes[2].set_ylabel(f'Regression Error')\n",
    "\n",
    "    axes[2].plot([-1, 1], [-1, 1], color='black', linestyle='--')\n",
    "\n",
    "    plt.tight_layout()\n",
    "    plt.show()\n",
    "\n",
    "    return fig, axes\n"
   ]
  },
  {
   "cell_type": "code",
   "execution_count": null,
   "metadata": {
    "pycharm": {
     "is_executing": false
    }
   },
   "outputs": [],
   "source": [
    "all_targets = vstack(\n",
    "    [create_regression_table(data_table) for data_table in dr3.iter_data(verbose=True)],\n",
    "    metadata_conflicts='silent'\n",
    ")\n"
   ]
  },
  {
   "cell_type": "code",
   "execution_count": null,
   "metadata": {
    "pycharm": {
     "is_executing": false
    }
   },
   "outputs": [],
   "source": [
    "fig, axes = plot_reg_errors(all_targets['flux'], all_targets['fluxerr'], all_targets['reg_fluxerr'])\n",
    "fig.suptitle('All CSP DR1 Targets')\n",
    "plt.show()\n"
   ]
  },
  {
   "cell_type": "markdown",
   "metadata": {},
   "source": [
    "We note that the regression errors are about 60% the size of the published errors and are always smaller. However, this plot is misleading as the relationship in the right-most sub plot is not actually linear. When we inspect the results of a single object, we see that the trend is much more like a negative exponential."
   ]
  },
  {
   "cell_type": "code",
   "execution_count": null,
   "metadata": {
    "pycharm": {
     "is_executing": false
    }
   },
   "outputs": [],
   "source": [
    "def plot_fitted_errors_for_object(obj_id, scale_by='all', figsize=(6, 6)):\n",
    "    \"\"\"Plot fits of regressed vs published error for a single object\n",
    "    \n",
    "    Args:\n",
    "        obj_id   (str): A CSP DR3 object ID for the data to plot\n",
    "        scale_by (str): Fit regressed error collectively (\"all\") or by band (\"band\")\n",
    "        figsize (tuple): The size of the figure\n",
    "        \n",
    "    Returns:\n",
    "        A matplotlib figure\n",
    "        An array of matplotlib axes\n",
    "    \"\"\"\n",
    "\n",
    "    # Perform a gaussian regression on the data\n",
    "    data = dr3.get_data_for_id(obj_id)\n",
    "    reg_results = create_regression_table(data)\n",
    "    reg_results.sort('fluxerr')\n",
    "    x = reg_results['fluxerr']\n",
    "    y = reg_results['reg_fluxerr']\n",
    "\n",
    "    # setup figure\n",
    "    fig, axes = plt.subplots(\n",
    "        2, 1,\n",
    "        figsize=figsize,\n",
    "        gridspec_kw={'height_ratios': [2, 1]},\n",
    "        sharex=True)\n",
    "\n",
    "    # Scale the error using a negative exponential\n",
    "    if scale_by == 'all':\n",
    "        scaled_errors, exp_opt, exp_cov = regression.scale_errors(x, y)\n",
    "        exp_yvals = regression.neg_exponential(x, *exp_opt)\n",
    "        axes[0].plot(x, exp_yvals, color='k', zorder=100)\n",
    "\n",
    "    # Plot the errors in each band\n",
    "    max_residual = 0\n",
    "    for band in set(reg_results['band']):\n",
    "        indices = np.where(reg_results['band'] == band)[0]\n",
    "        band_x, band_y = x[indices], y[indices]\n",
    "        axes[0].scatter(band_x, band_y, s=10)\n",
    "\n",
    "        if scale_by == 'band':\n",
    "            band_scaled_errors, exp_opt, exp_cov = regression.scale_errors(band_x, band_y)\n",
    "            exp_yvals = regression.neg_exponential(x, *exp_opt)\n",
    "            axes[0].plot(x, exp_yvals, alpha=.5)\n",
    "\n",
    "        residuals = (band_y - regression.neg_exponential(band_x, *exp_opt)) \n",
    "        axes[1].scatter(band_x, residuals, s=10)\n",
    "        max_residual = max(max_residual, max(np.abs(residuals)))\n",
    "        \n",
    "    \n",
    "    limit = max(max(x), max(y))\n",
    "    axes[0].plot([0, limit], [0, limit], label=None, linestyle='--', color='k')\n",
    "    axes[0].set_xlim(0, limit)\n",
    "    axes[0].set_ylim(0, limit)\n",
    "    axes[0].set_ylabel(f'Regression Error')\n",
    "    axes[0].set_title(obj_id)\n",
    "    axes[1].axhline(0, linestyle=':', color='k', zorder=0)\n",
    "    axes[1].set_xlabel(f'Published Error')\n",
    "    axes[1].set_ylabel('Residuals')\n",
    "    axes[1].set_ylim(- 1.1 * max_residual, 1.1 * max_residual)\n",
    "    plt.subplots_adjust(hspace=0)\n",
    "\n",
    "    return fig, axes\n"
   ]
  },
  {
   "cell_type": "code",
   "execution_count": null,
   "metadata": {
    "pycharm": {
     "is_executing": false
    },
    "scrolled": false
   },
   "outputs": [],
   "source": [
    "plot_fitted_errors_for_object('2005kc')\n",
    "plot_fitted_errors_for_object('2005kc', 'band')\n",
    "plot_fitted_errors_for_object('2004ef')\n",
    "plot_fitted_errors_for_object('2004ef', 'band')\n",
    "plot_fitted_errors_for_object('2004dt')\n",
    "plot_fitted_errors_for_object('2004dt', 'band')\n"
   ]
  },
  {
   "cell_type": "code",
   "execution_count": null,
   "metadata": {
    "pycharm": {
     "is_executing": false
    }
   },
   "outputs": [],
   "source": [
    "def legend_without_duplicate_labels(ax, **kwargs):\n",
    "    \"\"\"Create a figure label with no duplicates:\n",
    "    \n",
    "    Args:\n",
    "        ax (axis): The axis to add the lagend to\n",
    "        Any other kwargs for ax.legend\n",
    "    \"\"\"\n",
    "    \n",
    "    handles, labels = ax.get_legend_handles_labels()\n",
    "    unique = [(h, l) for i, (h, l) in enumerate(zip(handles, labels)) if l not in labels[:i]]\n",
    "    ax.legend(*zip(*unique), **kwargs)\n",
    "    \n",
    "    \n",
    "def plot_scaled_errors_for_csp(figsize=(6, 6)):\n",
    "    \"\"\"Plot resampled error vs published and single regression errors\n",
    "    \n",
    "    Args:\n",
    "        figsize (tuple): The size of the figure\n",
    "        \n",
    "    Returns:\n",
    "        A matplotlib figure\n",
    "        An array of matplotlib axes\n",
    "    \"\"\"\n",
    "    \n",
    "    fig, axes = plt.subplots(\n",
    "    2, 1,\n",
    "    figsize=figsize,\n",
    "    gridspec_kw={'height_ratios': [2, 1]},\n",
    "    sharex=True)\n",
    "\n",
    "    max_residual = 0\n",
    "    for data_table in dr3.iter_data(verbose=0):\n",
    "        regression_table = create_regression_table(data_table)\n",
    "\n",
    "        for band_data in regression_table.group_by('band').groups:\n",
    "            x = band_data['fluxerr']\n",
    "            y = band_data['reg_fluxerr']\n",
    "            band = band_data['band'][0]\n",
    "            band_label = band.split('_')[-1]\n",
    "            band_color = f'C{dr3.band_names.index(band)}'\n",
    "\n",
    "            try:\n",
    "                band_scaled_errors, exp_opt, exp_cov = regression.scale_errors(x, y)\n",
    "\n",
    "            except TypeError:\n",
    "                print(f'TypeError {data_table.meta[\"obj_id\"]} {band}')\n",
    "                continue\n",
    "\n",
    "            except RuntimeError:\n",
    "                warn(f'Failed fit for {data_table.meta[\"obj_id\"]} {band}')\n",
    "                continue\n",
    "\n",
    "            residuals = (x - band_scaled_errors)\n",
    "            max_residual = max(max_residual, max(np.abs(residuals)))\n",
    "            axes[0].scatter(x, band_scaled_errors, s=10, color=band_color, label=band_label)\n",
    "            axes[1].scatter(x, residuals, s=10, color=band_color)\n",
    "\n",
    "    axes[0].plot([-1, 100], [-1, 100], linestyle='--', color='k')\n",
    "    axes[0].set_ylabel(f'Regression Error')\n",
    "    axes[0].set_xlim(0, .08)\n",
    "    axes[0].set_ylim(0, .08)\n",
    "\n",
    "    axes[1].axhline(0, linestyle=':', color='k', zorder=0)\n",
    "    axes[1].set_xlabel(f'Published Error')\n",
    "    axes[1].set_ylabel('Residuals')\n",
    "    axes[1].set_ylim(- 1.1 * max_residual, 1.1 * max_residual)\n",
    "    plt.subplots_adjust(hspace=0)\n",
    "    legend_without_duplicate_labels(axes[0], loc='lower right', framealpha=1)\n",
    "    return fig, axes\n"
   ]
  },
  {
   "cell_type": "code",
   "execution_count": null,
   "metadata": {
    "scrolled": false
   },
   "outputs": [],
   "source": [
    "_ = plot_scaled_errors_for_csp()\n"
   ]
  },
  {
   "cell_type": "code",
   "execution_count": null,
   "metadata": {},
   "outputs": [],
   "source": []
  }
 ],
 "metadata": {
  "kernelspec": {
   "display_name": "Python [conda env:cmfgen] *",
   "language": "python",
   "name": "conda-env-cmfgen-py"
  },
  "language_info": {
   "codemirror_mode": {
    "name": "ipython",
    "version": 3
   },
   "file_extension": ".py",
   "mimetype": "text/x-python",
   "name": "python",
   "nbconvert_exporter": "python",
   "pygments_lexer": "ipython3",
   "version": "3.7.6"
  },
  "pycharm": {
   "stem_cell": {
    "cell_type": "raw",
    "metadata": {
     "collapsed": false
    },
    "source": []
   }
  }
 },
 "nbformat": 4,
 "nbformat_minor": 2
}
