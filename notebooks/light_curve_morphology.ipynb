{
 "cells": [
  {
   "cell_type": "markdown",
   "metadata": {},
   "source": [
    "# Light Curve Morphology\n",
    "\n",
    "This notebook inspects the shapes of simulated light curves for a variety of custom models.\n"
   ]
  },
  {
   "cell_type": "code",
   "execution_count": null,
   "metadata": {},
   "outputs": [],
   "source": [
    "import sys\n",
    "from copy import deepcopy\n",
    "from pathlib import Path\n",
    "\n",
    "from astropy.table import Table, vstack\n",
    "import numpy as np\n",
    "import sncosmo\n",
    "from matplotlib import pyplot as plt\n",
    "from matplotlib.ticker import MultipleLocator\n",
    "\n",
    "sys.path.insert(0, '../')\n",
    "from analysis import models\n",
    "\n",
    "figure_output_dir = Path('./figures/light_curve_morphology').resolve()\n",
    "figure_output_dir.mkdir(exist_ok=True, parents=True)\n",
    "models.register_sources(force=True)\n"
   ]
  },
  {
   "cell_type": "markdown",
   "metadata": {},
   "source": [
    "## Comparing Light Curve Shapes\n",
    "\n",
    "We start by comparing the shapes of each light-curve model in each band."
   ]
  },
  {
   "cell_type": "code",
   "execution_count": null,
   "metadata": {},
   "outputs": [],
   "source": [
    "def calculate_flux(model, phase, filt):\n",
    "    \"\"\"Calculate magnitudes in a given filter\n",
    "    \n",
    "    This function is a wrapper for ``model.bandflux`` and\n",
    "    returns NAN values for phases that would otherwise \n",
    "    raise a ValueError for being out of the model range.\n",
    "    \n",
    "    Args:\n",
    "        model    (Model): An sncosmo model\n",
    "        phase    (array): An array of phase values\n",
    "        filt       (str): Name of an scnosmo registered filter\n",
    "        \n",
    "    Returns:\n",
    "        An array of AB fluxes relative to a ZP of 25\n",
    "    \"\"\"\n",
    "\n",
    "    try:\n",
    "        flux = model.bandflux(filt, phase, zpsys='AB', zp=25)\n",
    "\n",
    "    except ValueError:\n",
    "        flux = []\n",
    "        for p in phase:\n",
    "            try:\n",
    "                flux.append(model.bandflux(filt, p, zpsys='AB', zp=25))\n",
    "\n",
    "            except ValueError:\n",
    "                flux.append(np.nan)\n",
    "\n",
    "\n",
    "    return np.ma.array(flux, mask=np.isnan(flux))\n",
    "\n",
    "def plot_light_curves(sources, phase, offset=1):\n",
    "    \"\"\"Plot the normalized flux in LSST bands for a set of models\n",
    "    \n",
    "    Args:\n",
    "        sources  (list): A list of sncosmo sources\n",
    "        phase (ndarray): An array of phase values\n",
    "        offset  (float): Vertical offset between light curves (default = 1)\n",
    "    \n",
    "    Returns:\n",
    "        A matplotlib figure\n",
    "        An array of figure axes\n",
    "    \"\"\"\n",
    "    \n",
    "    bands = ['lsst' + b for b in 'ugrizy']\n",
    "    fig, axes = plt.subplots(2, 3, figsize=(15, 10), sharex=True, sharey=True)\n",
    "    for i, source in enumerate(sources):\n",
    "        model = sncosmo.Model(source)\n",
    "        t0 = source.peakphase('standard::b')\n",
    "\n",
    "        for axis, band in zip(axes.flatten(), bands):        \n",
    "            flux = calculate_flux(model, phase + t0, band) \n",
    "            flux = (flux / max(flux)) + (i * offset)\n",
    "            axis.plot(phase, flux, label=model.source.name)\n",
    "            axis.set_title(band)\n",
    "\n",
    "    axis.legend()\n",
    "    for axis in axes[-1]:\n",
    "        axis.set_xlabel('phase')\n",
    "\n",
    "    for axis in axes[:, 0]:\n",
    "        axis.set_ylabel('Normalized Flux')\n",
    "    \n",
    "    plot_height = offset * (len(sources) - 1) + ((2 + offset) / 2)\n",
    "    axis.set_ylim(0, plot_height)\n",
    "    \n",
    "    return fig, axes\n"
   ]
  },
  {
   "cell_type": "code",
   "execution_count": null,
   "metadata": {
    "scrolled": false
   },
   "outputs": [],
   "source": [
    "phase = np.arange(-20, 130.5, .5)\n",
    "sources = [sncosmo.get_source('CMFGEN', version=v) for v in (1.02, 1.04, 1.4, 1.7)]\n",
    "sources += [sncosmo.get_source('salt2'), sncosmo.get_source('hsiao')]\n",
    "fig, axes = plot_light_curves(sources, phase, offset=.5)\n",
    "plt.savefig(figure_output_dir / 'model_morphology.pdf')\n",
    "plt.show()\n"
   ]
  },
  {
   "cell_type": "markdown",
   "metadata": {},
   "source": [
    "## Representative \"stretch\" and \"color\"\n",
    "\n",
    "We wish to determine fiducial \"stretch\" and \"color\" values for our custom models. We do this by simulating light curves with each model, fitting each those light-curves with a salt2-like model, and then plotting the relationship between the two sets of parameters. \n",
    "\n",
    "First we create a set table of simulated observations that defines the cadence of our simulated light curves.\n"
   ]
  },
  {
   "cell_type": "code",
   "execution_count": null,
   "metadata": {},
   "outputs": [],
   "source": [
    "time = np.arange(0, 130, 3).tolist()\n",
    "\n",
    "bands = ['lsst' + b for b in 'ugrizy']\n",
    "observations = vstack([\n",
    "    Table(\n",
    "        {'time': time,\n",
    "         'band': np.full(len(time), band),\n",
    "         'gain': np.ones(len(time)),\n",
    "         'skynoise': np.zeros(len(time)),\n",
    "         'zp': np.full(len(time), 25),\n",
    "         'zpsys': np.full(len(time), 'ab')})\n",
    "    \n",
    "    for band in bands])\n",
    "\n",
    "observations[:10]\n"
   ]
  },
  {
   "cell_type": "markdown",
   "metadata": {},
   "source": [
    "Next, we run a set of simulations and generate a single light-curve for each custom model. Note that the cadence for each of these simulated light curves is exactly the same."
   ]
  },
  {
   "cell_type": "code",
   "execution_count": null,
   "metadata": {},
   "outputs": [],
   "source": [
    "light_curves = []\n",
    "custom_sources = [sncosmo.get_source('CMFGEN', version=v) for v in (1.02, 1.04, 1.4, 1.7)]\n",
    "for source in custom_sources:\n",
    "    model = sncosmo.Model(source)\n",
    "    params = [{'z': 0, 'x0': 1}]\n",
    "    lc = sncosmo.realize_lcs(observations, model, params)[0]\n",
    "    lc.meta['source'] = model.source.name\n",
    "    lc.meta['version'] = model.source.version\n",
    "    light_curves.append(lc)\n",
    "    \n",
    "light_curves[0][:10]\n"
   ]
  },
  {
   "cell_type": "markdown",
   "metadata": {},
   "source": [
    "Each simulated light-curve is then fit with the salt2 model."
   ]
  },
  {
   "cell_type": "code",
   "execution_count": null,
   "metadata": {
    "scrolled": false
   },
   "outputs": [],
   "source": [
    "salt2 = sncosmo.Model('salt2')\n",
    "salt2.set(z=0)\n",
    "\n",
    "params_list = []\n",
    "for lc in light_curves:\n",
    "    result, fitted_model = sncosmo.fit_lc(lc, salt2, ['t0', 'x0', 'x1', 'c'])\n",
    "    source_name = lc.meta['source']\n",
    "    source_version = lc.meta['version'] \n",
    "\n",
    "    result_dict = {p:v for p, v in zip(result.param_names, result.parameters)}\n",
    "    result_dict['source'] = source_name\n",
    "    result_dict['version'] = source_version\n",
    "    params_list.append(result_dict)\n",
    "    \n",
    "    print(r'{} M={}'.format(source_name, source_version))\n",
    "    sncosmo.plot_lc(lc, fitted_model)\n",
    "    plt.savefig(figure_output_dir / f'{source_name}_{source_version}_s2fit.pdf')\n",
    "    plt.show()\n",
    "\n",
    "salt2_parameters = Table(rows=params_list)\n",
    "\n",
    "# Reorder table for easy reading\n",
    "salt2_parameters = salt2_parameters['source', 'version', 'x0', 'x1', 'c']  \n",
    "salt2_parameters\n"
   ]
  },
  {
   "cell_type": "code",
   "execution_count": null,
   "metadata": {},
   "outputs": [],
   "source": []
  }
 ],
 "metadata": {
  "kernelspec": {
   "display_name": "Python [conda env:phot_class]",
   "language": "python",
   "name": "conda-env-phot_class-py"
  },
  "language_info": {
   "codemirror_mode": {
    "name": "ipython",
    "version": 3
   },
   "file_extension": ".py",
   "mimetype": "text/x-python",
   "name": "python",
   "nbconvert_exporter": "python",
   "pygments_lexer": "ipython3",
   "version": "3.7.4"
  }
 },
 "nbformat": 4,
 "nbformat_minor": 2
}
