{
 "cells": [
  {
   "cell_type": "code",
   "execution_count": null,
   "metadata": {},
   "outputs": [],
   "source": [
    "import os\n",
    "\n",
    "import numpy as np\n",
    "from astropy.table import Table\n",
    "from sncosmo import TimeSeriesSource\n",
    "from tqdm import tqdm\n",
    "    "
   ]
  },
  {
   "cell_type": "code",
   "execution_count": 6,
   "metadata": {},
   "outputs": [],
   "source": [
    "def save_model_to_npy(in_dir, out_path):\n",
    "    \n",
    "    # Read summary table for the model\n",
    "    tab = Table.read(os.path.join(in_dir, 'AGE_FLUX_TAB'), format='ascii')\n",
    "    \n",
    "    # Populate arrays with model values\n",
    "    phase = np.array([float(x.rstrip('D0')) for x in tab['col1']])\n",
    "    flux = []\n",
    "    wavelength = []\n",
    "    for row in tqdm(tab):\n",
    "        flux_table = Table.read(os.path.join(in_dir, row[1] + '.fl'), format='ascii')\n",
    "        wavelength.append(np.array(flux_table['col1']))\n",
    "        flux.append(np.array(flux_table['col2']))\n",
    "        \n",
    "    np.savez(out_path, phase=phase, wavelength=wavelength, flux=flux)\n",
    "    \n",
    "    # Down sample onto a uniform grid\n",
    "    wavelength_grid = wavelength[0]\n",
    "    flux_grid = []\n",
    "    for w, f in zip(wavelength, flux):\n",
    "        flux_grid.append(np.interp(wavelength_grid, w, f))\n",
    "\n",
    "    # Save data\n",
    "    grid_path = out_path.rstrip('.npz') + '_grid.npz'\n",
    "    np.savez(grid_path, phase=phase, wavelength=wavelength_grid, flux=flux_grid)\n"
   ]
  },
  {
   "cell_type": "code",
   "execution_count": 7,
   "metadata": {},
   "outputs": [
    {
     "name": "stderr",
     "output_type": "stream",
     "text": [
      "100%|██████████| 64/64 [03:26<00:00,  3.24s/it]\n",
      "100%|██████████| 64/64 [03:26<00:00,  3.22s/it]\n",
      "100%|██████████| 64/64 [03:28<00:00,  3.24s/it]\n",
      "100%|██████████| 64/64 [04:38<00:00,  3.26s/it]\n"
     ]
    }
   ],
   "source": [
    "model_dir = '/Users/daniel/Github/nir_comparison/FLUXES_for_daniel'\n",
    "for sub_dir in os.listdir(model_dir):\n",
    "    save_model_to_npy(os.path.join(model_dir, sub_dir), sub_dir)"
   ]
  },
  {
   "cell_type": "code",
   "execution_count": null,
   "metadata": {},
   "outputs": [],
   "source": []
  }
 ],
 "metadata": {
  "kernelspec": {
   "display_name": "Python [conda env:sdss_classification_3.7]",
   "language": "python",
   "name": "conda-env-sdss_classification_3.7-py"
  },
  "language_info": {
   "codemirror_mode": {
    "name": "ipython",
    "version": 3
   },
   "file_extension": ".py",
   "mimetype": "text/x-python",
   "name": "python",
   "nbconvert_exporter": "python",
   "pygments_lexer": "ipython3",
   "version": "3.7.1"
  }
 },
 "nbformat": 4,
 "nbformat_minor": 2
}
